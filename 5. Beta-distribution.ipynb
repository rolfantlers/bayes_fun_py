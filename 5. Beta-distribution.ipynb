{
 "cells": [
  {
   "cell_type": "code",
   "execution_count": 1,
   "metadata": {},
   "outputs": [],
   "source": [
    "# basic functions\n",
    "import math\n",
    "import numpy as np\n",
    "from scipy.stats import binom\n",
    "from scipy.stats import beta"
   ]
  },
  {
   "cell_type": "code",
   "execution_count": 2,
   "metadata": {},
   "outputs": [],
   "source": [
    "# create visuals and visual style\n",
    "import matplotlib.pyplot as plt\n",
    "import seaborn as sns\n",
    "\n",
    "sns.set(style='white', context='notebook', palette='deep')\n",
    "\n",
    "%matplotlib inline"
   ]
  },
  {
   "cell_type": "markdown",
   "metadata": {},
   "source": [
    "Hello<sup>I love you won't you tell me your name</sup>"
   ]
  },
  {
   "cell_type": "markdown",
   "metadata": {},
   "source": [
    "### `The Beta Distribution`\n",
    "\n",
    "You would use the **`Beta Distribution`** when you've already observed a number of trials and the number of successful outcomes."
   ]
  },
  {
   "cell_type": "markdown",
   "metadata": {},
   "source": [
    "### `Distinguishing Probability, Statistics, and Inference`"
   ]
  },
  {
   "cell_type": "markdown",
   "metadata": {},
   "source": [
    "### `Collecting Data`"
   ]
  },
  {
   "cell_type": "markdown",
   "metadata": {},
   "source": [
    "### `Calculating the Probability of Probabilities`\n",
    "\n",
    "Add some explanatory text here related to the header in the book.\n",
    "\n",
    "P(two coins) = 1/2 *vs.* P(two coins) = 14/41\n",
    "\n",
    "H<sub>1</sub> is P(two coins) = 1/2\n",
    "\n",
    "H<sub>2</sub> is P(two coins) = 14/41\n",
    "\n",
    "For this, we will calculate a binomial pmf for each hypothesis. \n",
    "\n",
    "P(D|H<sub>1</sub>) = B(14;41,1/2)\n",
    "\n",
    "P(D|H<sub>2</sub>) = B(14;41,14/41)"
   ]
  },
  {
   "cell_type": "code",
   "execution_count": 3,
   "metadata": {},
   "outputs": [],
   "source": [
    "hypoth_one = binom.pmf(14,41,1/2)\n",
    "hypoth_two = binom.pmf(14,41,14/41)"
   ]
  },
  {
   "cell_type": "code",
   "execution_count": 4,
   "metadata": {},
   "outputs": [
    {
     "data": {
      "text/plain": [
       "'H1: 0.0160 vs. H2: 0.1305'"
      ]
     },
     "execution_count": 4,
     "metadata": {},
     "output_type": "execute_result"
    }
   ],
   "source": [
    "# Given the data (14 cases of getting two coins out of 41 trials), H2 is almost 10 times more\n",
    "# probable than H1\n",
    "f\"H1: {hypoth_one:.4f} vs. H2: {hypoth_two:.4f}\""
   ]
  },
  {
   "cell_type": "code",
   "execution_count": 5,
   "metadata": {},
   "outputs": [
    {
     "data": {
      "text/plain": [
       "8.141526269320835"
      ]
     },
     "execution_count": 5,
     "metadata": {},
     "output_type": "execute_result"
    }
   ],
   "source": [
    "hypoth_two/hypoth_one"
   ]
  },
  {
   "cell_type": "markdown",
   "metadata": {},
   "source": [
    "H<sub>3</sub> = P(two coins) = 15/42"
   ]
  },
  {
   "cell_type": "code",
   "execution_count": 6,
   "metadata": {
    "scrolled": true
   },
   "outputs": [
    {
     "name": "stdout",
     "output_type": "stream",
     "text": [
      "0.0\n",
      "7.538470176454329e-10\n",
      "5.737775715321828e-06\n",
      "0.0005368781055062878\n",
      "0.007817635130837315\n",
      "0.03890004062170131\n",
      "0.09303828886450415\n",
      "0.12702146220279298\n",
      "0.10843748676463123\n",
      "0.060558643173393135\n",
      "0.022435512531955866\n",
      "0.005449717969746779\n",
      "0.0008357652981006862\n",
      "7.54628773050255e-05\n",
      "3.572237217133146e-06\n",
      "7.31972892977795e-08\n",
      "4.659673649571707e-10\n",
      "4.897153233027799e-13\n",
      "2.031577782838519e-17\n",
      "3.405963657279598e-25\n"
     ]
    }
   ],
   "source": [
    "# integrate graph later\n",
    "\n",
    "deci_range = np.arange(0,1,0.05)\n",
    "\n",
    "for n in deci_range:\n",
    "    print(binom.pmf(15,42,n))"
   ]
  },
  {
   "cell_type": "code",
   "execution_count": 7,
   "metadata": {},
   "outputs": [],
   "source": [
    "tt = [binom.pmf(15,42,n) for n in deci_range]"
   ]
  },
  {
   "cell_type": "code",
   "execution_count": 8,
   "metadata": {},
   "outputs": [
    {
     "data": {
      "text/plain": [
       "0.46511627797100064"
      ]
     },
     "execution_count": 8,
     "metadata": {},
     "output_type": "execute_result"
    }
   ],
   "source": [
    "sum(tt)"
   ]
  },
  {
   "cell_type": "markdown",
   "metadata": {},
   "source": [
    "The beta distribution is listed under [scipy.stats.beta](https://docs.scipy.org/doc/scipy/reference/generated/scipy.stats.beta.html) in Scipy.\n",
    "\n",
    "It is an instance of the **`rv_continous`** class."
   ]
  },
  {
   "cell_type": "code",
   "execution_count": 3,
   "metadata": {},
   "outputs": [],
   "source": [
    "# q = lower and upper tail\n",
    "# a,b shape parameters\n",
    "# x = quantiles"
   ]
  },
  {
   "cell_type": "code",
   "execution_count": 4,
   "metadata": {},
   "outputs": [
    {
     "data": {
      "text/plain": [
       "array([2.73249066, 0.59098423])"
      ]
     },
     "execution_count": 4,
     "metadata": {},
     "output_type": "execute_result"
    }
   ],
   "source": [
    "beta.pdf([0.25,0.5],14,27)"
   ]
  },
  {
   "cell_type": "code",
   "execution_count": 10,
   "metadata": {},
   "outputs": [
    {
     "data": {
      "text/plain": [
       "array([0.10323172, 0.98076135])"
      ]
     },
     "execution_count": 10,
     "metadata": {},
     "output_type": "execute_result"
    }
   ],
   "source": [
    "beta.cdf([0.25,0.5], 14,27)"
   ]
  },
  {
   "cell_type": "markdown",
   "metadata": {},
   "source": [
    "### the integration range [0,0.5] is important\n",
    "### probability good idea to explain how continous distributions work"
   ]
  },
  {
   "cell_type": "code",
   "execution_count": 6,
   "metadata": {},
   "outputs": [
    {
     "data": {
      "text/plain": [
       "0.9807613458578999"
      ]
     },
     "execution_count": 6,
     "metadata": {},
     "output_type": "execute_result"
    }
   ],
   "source": [
    "beta.cdf([0.0,0.5],14,27)[1]"
   ]
  },
  {
   "cell_type": "code",
   "execution_count": 7,
   "metadata": {},
   "outputs": [
    {
     "data": {
      "text/plain": [
       "array([0.        , 5.25263925])"
      ]
     },
     "execution_count": 7,
     "metadata": {},
     "output_type": "execute_result"
    }
   ],
   "source": [
    "beta.pdf([0.0,0.35],14,27)"
   ]
  },
  {
   "cell_type": "markdown",
   "metadata": {},
   "source": [
    "### `Reverse Engineering the Gacha Game`"
   ]
  },
  {
   "cell_type": "code",
   "execution_count": 8,
   "metadata": {},
   "outputs": [
    {
     "data": {
      "text/plain": [
       "0.2850559397962503"
      ]
     },
     "execution_count": 8,
     "metadata": {},
     "output_type": "execute_result"
    }
   ],
   "source": [
    "beta.sf([0.0,0.005],5,1195)[1] # the old survival function\n",
    "# explain why we use [1]"
   ]
  },
  {
   "cell_type": "code",
   "execution_count": 16,
   "metadata": {},
   "outputs": [],
   "source": [
    "# interpretation: there is a 28.5% chance the rate of pulling an Efron card is 0.005 or greater"
   ]
  },
  {
   "cell_type": "code",
   "execution_count": 35,
   "metadata": {},
   "outputs": [
    {
     "data": {
      "text/plain": [
       "0.7149440602037497"
      ]
     },
     "execution_count": 35,
     "metadata": {},
     "output_type": "execute_result"
    }
   ],
   "source": [
    "cdf = beta.cdf([0.0,0.005], 5,1195)[1]\n",
    "cdf"
   ]
  },
  {
   "cell_type": "markdown",
   "metadata": {},
   "source": [
    "This says, \"there is a 71.5% chance that pulling a Bradley Efron card is less than 0.005. Or conversely, that the chance it is greater than 0.005 is `1-cdf` or 28.5%.\"\n",
    "\n",
    "Thus, if your friend wants his chances to be 70.0% or greater, he shouldn't try his luck."
   ]
  },
  {
   "cell_type": "markdown",
   "metadata": {},
   "source": [
    "There is another way to approach this question.\n",
    "\n",
    "You've pulled 5 Bradley Efron cards. And your friend really wants one. \n",
    "\n",
    "Based on your data, you can make an estimate of how much a Bradley Efron card is worth.\n",
    "\n",
    "Then you can answer the question: How much should my friend pay to get a Bradley Efron card?\n",
    "\n",
    "Easy Version: Assume he *only* wants a Bradley Efron card.\n",
    "Hard Version: Assign values the other cards he collects in his quest to get a Bradley Efron."
   ]
  },
  {
   "cell_type": "markdown",
   "metadata": {},
   "source": [
    "### `The Beta Distribution`"
   ]
  },
  {
   "cell_type": "markdown",
   "metadata": {},
   "source": [
    "### `Summary of Python used:`\n",
    "\n",
    "combinations: comb(N,k,exact=True)\n",
    "\n",
    "binomial probability mass function: binom.pmf(k,n,p)\n",
    "\n",
    "binomial survival function: binom.sf(k,n,p)\n",
    "\n",
    "binomial cumulative density function: binom.cdf(k,n,p)"
   ]
  },
  {
   "cell_type": "markdown",
   "metadata": {},
   "source": [
    "### `Questions`"
   ]
  },
  {
   "cell_type": "markdown",
   "metadata": {},
   "source": [
    "*`1. You want to use the beta distribution to determine whether or not a coin you have is a fair coin--meaning that the coin gives you heads and tails equally. You flip the coin 10 times  and get 4 heads and 6 tails. Using the beta distribution, what is the probability that the coin will land on heads more than 60 percent of the time?`*"
   ]
  },
  {
   "cell_type": "code",
   "execution_count": 17,
   "metadata": {},
   "outputs": [
    {
     "data": {
      "text/plain": [
       "0.09935257600000003"
      ]
     },
     "execution_count": 17,
     "metadata": {},
     "output_type": "execute_result"
    }
   ],
   "source": [
    "1 - beta.cdf([0.0,0.6],4,6)[1]"
   ]
  },
  {
   "cell_type": "code",
   "execution_count": 18,
   "metadata": {},
   "outputs": [
    {
     "data": {
      "text/plain": [
       "array([0.09935258, 0.        ])"
      ]
     },
     "execution_count": 18,
     "metadata": {},
     "output_type": "execute_result"
    }
   ],
   "source": [
    "# chances of getting heads more than 60%\n",
    "# between 0.6 and 1.0 interval\n",
    "beta.sf([0.6,1.0],4,6)"
   ]
  },
  {
   "cell_type": "markdown",
   "metadata": {},
   "source": [
    "#### from `scipy.stats.rv_continous` docs:\n",
    "\n",
    "If possible, you should override _isf, _sf or _logsf. The main reason would be to improve numerical accuracy: for example, the survival function _sf is computed as 1 - _cdf which can result in loss of precision if _cdf(x) is close to one."
   ]
  },
  {
   "cell_type": "code",
   "execution_count": 19,
   "metadata": {},
   "outputs": [
    {
     "data": {
      "text/plain": [
       "0.09935257600000003"
      ]
     },
     "execution_count": 19,
     "metadata": {},
     "output_type": "execute_result"
    }
   ],
   "source": [
    "beta.sf(0.6,4,6)"
   ]
  },
  {
   "cell_type": "code",
   "execution_count": 20,
   "metadata": {},
   "outputs": [
    {
     "data": {
      "text/plain": [
       "array([1.96875])"
      ]
     },
     "execution_count": 20,
     "metadata": {},
     "output_type": "execute_result"
    }
   ],
   "source": [
    "beta.pdf([0.5],4,6)"
   ]
  },
  {
   "cell_type": "code",
   "execution_count": 21,
   "metadata": {},
   "outputs": [
    {
     "data": {
      "text/plain": [
       "(0.168750495987324, 0.6550586340562967)"
      ]
     },
     "execution_count": 21,
     "metadata": {},
     "output_type": "execute_result"
    }
   ],
   "source": [
    "beta.interval(.9,4,6)"
   ]
  },
  {
   "cell_type": "markdown",
   "metadata": {},
   "source": [
    "*`2. You flip the coin 10 more times and now have 9 heads and 11 tails total. What is the probability that the coin is fair, using our definition of fair, give or take 5 percent?`*"
   ]
  },
  {
   "cell_type": "code",
   "execution_count": 22,
   "metadata": {},
   "outputs": [
    {
     "data": {
      "text/plain": [
       "array([0.50601904, 0.81589905])"
      ]
     },
     "execution_count": 22,
     "metadata": {},
     "output_type": "execute_result"
    }
   ],
   "source": [
    "# remember \"fair\" = 0.5 so \"give or take\" is 0.5 +/- 0.05\n",
    "fair = beta.cdf([0.45,0.55],9,11)\n",
    "fair\n",
    "# the cumulative probability between 0.45% and 0.55%\n",
    "# Or 0.815 - 0.506 = 0.309"
   ]
  },
  {
   "cell_type": "code",
   "execution_count": 23,
   "metadata": {},
   "outputs": [
    {
     "data": {
      "text/plain": [
       "0.3098800156513042"
      ]
     },
     "execution_count": 23,
     "metadata": {},
     "output_type": "execute_result"
    }
   ],
   "source": [
    "fair[1] - fair[0]"
   ]
  },
  {
   "cell_type": "markdown",
   "metadata": {},
   "source": [
    "*`3. Data is the best way to become more confident in your assertions. You flip the coin 200 more times and end up with 109 heads and 111 tails. Now what is the probability that coins is fair, give or take 5 percent?`*"
   ]
  },
  {
   "cell_type": "code",
   "execution_count": 24,
   "metadata": {},
   "outputs": [],
   "source": [
    "def beta_cdf_prob(interval, a,b):\n",
    "    \"\"\"\n",
    "    interval: array upper and lower limits of the range\n",
    "    a: int alpha\n",
    "    b: int beta\n",
    "    \n",
    "    returns: cumulative density between an lower limit and upper limit for a beta function\n",
    "    \"\"\"\n",
    "    lower, upper = min(interval), max(interval)\n",
    "    cdf_range = beta.cdf([lower,upper],a,b)\n",
    "    return cdf_range[1] - cdf_range[0]"
   ]
  },
  {
   "cell_type": "code",
   "execution_count": 25,
   "metadata": {},
   "outputs": [
    {
     "data": {
      "text/plain": [
       "0.8589371426532354"
      ]
     },
     "execution_count": 25,
     "metadata": {},
     "output_type": "execute_result"
    }
   ],
   "source": [
    "beta_cdf_prob([0.45,0.55], 109,111)"
   ]
  },
  {
   "cell_type": "markdown",
   "metadata": {},
   "source": [
    "### `Etcetera`\n",
    "Likely to get deleted later."
   ]
  },
  {
   "cell_type": "markdown",
   "metadata": {},
   "source": [
    "# Critique:\n",
    "\n",
    "I'd like to see the examples and problems set up in math notion form, then make the bridge for \n",
    "the reader into code"
   ]
  },
  {
   "cell_type": "markdown",
   "metadata": {},
   "source": [
    "Create a quick notebook teaching all of this through sports?"
   ]
  },
  {
   "cell_type": "code",
   "execution_count": 26,
   "metadata": {},
   "outputs": [
    {
     "data": {
      "text/plain": [
       "array([0.08849826, 0.43595318, 0.9474354 ])"
      ]
     },
     "execution_count": 26,
     "metadata": {},
     "output_type": "execute_result"
    }
   ],
   "source": [
    "beta.cdf([0.45,0.49,0.55],109,111)"
   ]
  },
  {
   "cell_type": "code",
   "execution_count": 27,
   "metadata": {},
   "outputs": [],
   "source": [
    "interv = [0.49,0.45,0.55]"
   ]
  },
  {
   "cell_type": "code",
   "execution_count": 28,
   "metadata": {},
   "outputs": [
    {
     "data": {
      "text/plain": [
       "0.8589371426532354"
      ]
     },
     "execution_count": 28,
     "metadata": {},
     "output_type": "execute_result"
    }
   ],
   "source": [
    "beta_cdf_prob(interv,109,111)"
   ]
  },
  {
   "cell_type": "code",
   "execution_count": null,
   "metadata": {},
   "outputs": [],
   "source": []
  }
 ],
 "metadata": {
  "kernelspec": {
   "display_name": "Python 3",
   "language": "python",
   "name": "python3"
  },
  "language_info": {
   "codemirror_mode": {
    "name": "ipython",
    "version": 3
   },
   "file_extension": ".py",
   "mimetype": "text/x-python",
   "name": "python",
   "nbconvert_exporter": "python",
   "pygments_lexer": "ipython3",
   "version": "3.6.9"
  }
 },
 "nbformat": 4,
 "nbformat_minor": 2
}
