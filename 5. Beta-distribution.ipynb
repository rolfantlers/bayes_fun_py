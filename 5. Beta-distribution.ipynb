{
 "cells": [
  {
   "cell_type": "code",
   "execution_count": 44,
   "metadata": {},
   "outputs": [],
   "source": [
    "# basic functions\n",
    "import math\n",
    "import numpy as np\n",
    "from scipy.stats import binom\n",
    "from scipy.stats import beta"
   ]
  },
  {
   "cell_type": "code",
   "execution_count": 45,
   "metadata": {},
   "outputs": [],
   "source": [
    "# create visuals and visual style\n",
    "import matplotlib.pyplot as plt\n",
    "import seaborn as sns\n",
    "\n",
    "sns.set(style='white', context='notebook', palette='deep')\n",
    "\n",
    "%matplotlib inline"
   ]
  },
  {
   "cell_type": "markdown",
   "metadata": {},
   "source": [
    "Hello<sup>I love you won't you tell me your name</sup>"
   ]
  },
  {
   "cell_type": "markdown",
   "metadata": {},
   "source": [
    "### `The Beta Distribution`\n",
    "\n",
    "You would use the **`Beta Distribution`** when you've already observed a number of trials and the number of successful outcomes."
   ]
  },
  {
   "cell_type": "markdown",
   "metadata": {},
   "source": [
    "### `Distinguishing Probability, Statistics, and Inference`"
   ]
  },
  {
   "cell_type": "markdown",
   "metadata": {},
   "source": [
    "### `Collecting Data`"
   ]
  },
  {
   "cell_type": "markdown",
   "metadata": {},
   "source": [
    "### `Calculating the Probability of Probabilities`\n",
    "\n",
    "Add some explanatory text here related to the header in the book.\n",
    "\n",
    "P(two coins) = 1/2 *vs.* P(two coins) = 14/41\n",
    "\n",
    "H<sub>1</sub> is P(two coins) = 1/2\n",
    "\n",
    "H<sub>2</sub> is P(two coins) = 14/41\n",
    "\n",
    "For this, we will calculate a binomial pmf for each hypothesis. \n",
    "\n",
    "P(D|H<sub>1</sub>) = B(14;41,1/2)\n",
    "\n",
    "P(D|H<sub>2</sub>) = B(14;41,14/41)"
   ]
  },
  {
   "cell_type": "code",
   "execution_count": 24,
   "metadata": {},
   "outputs": [],
   "source": [
    "hypoth_one = binom.pmf(14,41,1/2)\n",
    "hypoth_two = binom.pmf(14,41,14/41)"
   ]
  },
  {
   "cell_type": "code",
   "execution_count": 28,
   "metadata": {},
   "outputs": [
    {
     "data": {
      "text/plain": [
       "'H1: 0.0160 vs. H2: 0.1305'"
      ]
     },
     "execution_count": 28,
     "metadata": {},
     "output_type": "execute_result"
    }
   ],
   "source": [
    "# Given the data (14 cases of getting two coins out of 41 trials), H2 is almost 10 times more\n",
    "# probable than H1\n",
    "f\"H1: {hypoth_one:.4f} vs. H2: {hypoth_two:.4f}\""
   ]
  },
  {
   "cell_type": "code",
   "execution_count": 29,
   "metadata": {},
   "outputs": [
    {
     "data": {
      "text/plain": [
       "8.141526269320835"
      ]
     },
     "execution_count": 29,
     "metadata": {},
     "output_type": "execute_result"
    }
   ],
   "source": [
    "hypoth_two/hypoth_one"
   ]
  },
  {
   "cell_type": "markdown",
   "metadata": {},
   "source": [
    "H<sub>3</sub> = P(two coins) = 15/42"
   ]
  },
  {
   "cell_type": "code",
   "execution_count": 54,
   "metadata": {
    "scrolled": true
   },
   "outputs": [
    {
     "name": "stdout",
     "output_type": "stream",
     "text": [
      "0.0\n",
      "7.538470176454329e-10\n",
      "5.737775715321828e-06\n",
      "0.0005368781055062878\n",
      "0.007817635130837315\n",
      "0.03890004062170131\n",
      "0.09303828886450415\n",
      "0.12702146220279298\n",
      "0.10843748676463123\n",
      "0.060558643173393135\n",
      "0.022435512531955866\n",
      "0.005449717969746779\n",
      "0.0008357652981006862\n",
      "7.54628773050255e-05\n",
      "3.572237217133146e-06\n",
      "7.31972892977795e-08\n",
      "4.659673649571707e-10\n",
      "4.897153233027799e-13\n",
      "2.031577782838519e-17\n",
      "3.405963657279598e-25\n"
     ]
    }
   ],
   "source": [
    "# integrate graph later\n",
    "\n",
    "deci_range = np.arange(0,1,0.05)\n",
    "\n",
    "for n in deci_range:\n",
    "    print(binom.pmf(15,42,n))"
   ]
  },
  {
   "cell_type": "code",
   "execution_count": 55,
   "metadata": {},
   "outputs": [],
   "source": [
    "tt = [binom.pmf(15,42,n) for n in deci_range]"
   ]
  },
  {
   "cell_type": "code",
   "execution_count": 56,
   "metadata": {},
   "outputs": [
    {
     "data": {
      "text/plain": [
       "0.46511627797100064"
      ]
     },
     "execution_count": 56,
     "metadata": {},
     "output_type": "execute_result"
    }
   ],
   "source": [
    "sum(tt)"
   ]
  },
  {
   "cell_type": "markdown",
   "metadata": {},
   "source": [
    "The beta distribution is listed under [scipy.stats.beta](https://docs.scipy.org/doc/scipy/reference/generated/scipy.stats.beta.html) in Scipy.\n",
    "\n",
    "It is an instance of the **`rv_continous`** class."
   ]
  },
  {
   "cell_type": "code",
   "execution_count": null,
   "metadata": {},
   "outputs": [],
   "source": [
    "# q = lower and upper tail\n",
    "# a,b shape parameters\n",
    "# x = quantiles"
   ]
  },
  {
   "cell_type": "code",
   "execution_count": 67,
   "metadata": {},
   "outputs": [
    {
     "data": {
      "text/plain": [
       "array([0.        , 0.59098423])"
      ]
     },
     "execution_count": 67,
     "metadata": {},
     "output_type": "execute_result"
    }
   ],
   "source": [
    "beta.pdf([0,0.5],14,27)"
   ]
  },
  {
   "cell_type": "markdown",
   "metadata": {},
   "source": [
    "### the integration range [0,0.5] is important\n",
    "### probability good idea to explain how continous distributions work"
   ]
  },
  {
   "cell_type": "code",
   "execution_count": 106,
   "metadata": {},
   "outputs": [
    {
     "data": {
      "text/plain": [
       "0.9807613458578999"
      ]
     },
     "execution_count": 106,
     "metadata": {},
     "output_type": "execute_result"
    }
   ],
   "source": [
    "beta.cdf([0.0,0.5],14,27)[1]"
   ]
  },
  {
   "cell_type": "markdown",
   "metadata": {},
   "source": [
    "### `Reverse Engineering the Gacha Game`"
   ]
  },
  {
   "cell_type": "code",
   "execution_count": 111,
   "metadata": {},
   "outputs": [
    {
     "data": {
      "text/plain": [
       "0.2850559397962503"
      ]
     },
     "execution_count": 111,
     "metadata": {},
     "output_type": "execute_result"
    }
   ],
   "source": [
    "beta.sf([0.0,0.005],5,1195)[1] # the old survival function\n",
    "# explain why we use [1]"
   ]
  },
  {
   "cell_type": "code",
   "execution_count": 112,
   "metadata": {},
   "outputs": [],
   "source": [
    "# interpretation: there is a 28.5% chance the rate of pulling an Efron card is 0.005 or greater"
   ]
  },
  {
   "cell_type": "markdown",
   "metadata": {},
   "source": [
    "### `The Beta Distribution`"
   ]
  },
  {
   "cell_type": "markdown",
   "metadata": {},
   "source": [
    "### `Summary of Python used:`\n",
    "\n",
    "combinations: comb(N,k,exact=True)\n",
    "\n",
    "binomial probability mass function: binom.pmf(k,n,p)\n",
    "\n",
    "binomial survival function: binom.sf(k,n,p)\n",
    "\n",
    "binomial cumulative density function: binom.cdf(k,n,p)"
   ]
  },
  {
   "cell_type": "markdown",
   "metadata": {},
   "source": [
    "# Critique:\n",
    "\n",
    "I'd like to see the examples and problems set up in math notion form, then make the bridge for \n",
    "the reader into code"
   ]
  },
  {
   "cell_type": "markdown",
   "metadata": {},
   "source": [
    "### `Questions`"
   ]
  },
  {
   "cell_type": "markdown",
   "metadata": {},
   "source": [
    "*`2. There are four aces in a deck of 52 cards. If you pull a card, return the card then reshuffle and pull a card again, how ways can you pull just one ace?`*"
   ]
  },
  {
   "cell_type": "code",
   "execution_count": 104,
   "metadata": {},
   "outputs": [
    {
     "data": {
      "text/plain": [
       "0.09935257600000003"
      ]
     },
     "execution_count": 104,
     "metadata": {},
     "output_type": "execute_result"
    }
   ],
   "source": [
    "beta.sf([0.0,0.6],4,6)[1]"
   ]
  },
  {
   "cell_type": "markdown",
   "metadata": {},
   "source": [
    "*`3. For the example in question 2, what is the probability of pulling five aces in 10 pulls (remember the card is shuffled back in the deck when it is pulled)?`*"
   ]
  },
  {
   "cell_type": "markdown",
   "metadata": {},
   "source": [
    "*`4. When you're searching for a new job, it's alway helpful to have more than one offer on the table so you can use it in negotiations. If you have a 1/5 probability of receiving a job offer when you interview, and you interview with seven companies in a month, what is the probability you'll have at least two competing offers by the end of that month?`*"
   ]
  },
  {
   "cell_type": "markdown",
   "metadata": {},
   "source": [
    "*`5. You get a bunch of recruiter emails and find out you have 25 interviews lined up in the next month. Unfortunately, you know this will leave you exhausted, and the probability of getting an offer will drop to 1/10 if you're tired. You really don't want to go on this many interviews unless you are at least twice as likely to get at least two competing offers. Are you more likely to get at least two offers if you got for 25 interviews, or stick to 7?`*"
   ]
  },
  {
   "cell_type": "markdown",
   "metadata": {},
   "source": [
    "### `Etcetera`\n",
    "Likely to get deleted later."
   ]
  }
 ],
 "metadata": {
  "kernelspec": {
   "display_name": "Python 3",
   "language": "python",
   "name": "python3"
  },
  "language_info": {
   "codemirror_mode": {
    "name": "ipython",
    "version": 3
   },
   "file_extension": ".py",
   "mimetype": "text/x-python",
   "name": "python",
   "nbconvert_exporter": "python",
   "pygments_lexer": "ipython3",
   "version": "3.6.9"
  }
 },
 "nbformat": 4,
 "nbformat_minor": 2
}
