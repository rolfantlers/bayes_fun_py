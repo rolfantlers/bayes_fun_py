{
 "cells": [
  {
   "cell_type": "code",
   "execution_count": 23,
   "metadata": {},
   "outputs": [],
   "source": [
    "# basic functions\n",
    "import math\n",
    "import numpy as np"
   ]
  },
  {
   "cell_type": "code",
   "execution_count": 24,
   "metadata": {},
   "outputs": [],
   "source": [
    "#visual style\n",
    "import matplotlib.pyplot as plt\n",
    "\n",
    "%matplotlib inline"
   ]
  },
  {
   "cell_type": "markdown",
   "metadata": {},
   "source": [
    "## `Exercises`"
   ]
  },
  {
   "cell_type": "markdown",
   "metadata": {},
   "source": [
    "*1. A friend finds a coin on the ground, flips it, and gets six heads in a row and then one tails. Give the beta distribution that describes this. Use integration to determine the probability that the true rate of flipping heads is between 0.4 and 0.6, reflecting that the coin is reasonably fair.*"
   ]
  },
  {
   "cell_type": "markdown",
   "metadata": {},
   "source": [
    "The **Beta Distibution** parameters are **`alpha (observed successes)`** and **`beta (observed failures)`**. Problems using this distribution calculate the rate of success given the data we have.\n",
    "\n",
    "P(RateOfSuccess|Successes and Failures) = Beta($\\alpha$,$\\beta$)\n",
    "\n",
    "For this problem the **Number of Heads = 6** (ie \"successes\") and the number of failures equals the **Number of Tails = 1**\n",
    "\n",
    "With this data we can determine the chances that the coin is fair or \"that the true rate of flipping heads is between 0.4 and 0.6.\"\n",
    "\n",
    "To solve this using Python, use **`from scipy.stats import beta`**.\n",
    "\n",
    "Another way of thinking about this is \"What is the probability the rate of heads is between 0.4 and 0.6?\" \n",
    "\n",
    "To do that, look at the chunk of probability that falls between those two bookends using the cumulative distribution method or **`cdf`** method."
   ]
  },
  {
   "cell_type": "code",
   "execution_count": 128,
   "metadata": {},
   "outputs": [],
   "source": [
    "from scipy.stats import beta"
   ]
  },
  {
   "cell_type": "code",
   "execution_count": 130,
   "metadata": {},
   "outputs": [],
   "source": [
    "# parameters\n",
    "heads_q1 = 6\n",
    "tails_q1 = 1\n",
    "fair_rate = [0.4,0.6]"
   ]
  },
  {
   "cell_type": "code",
   "execution_count": 131,
   "metadata": {},
   "outputs": [
    {
     "data": {
      "text/plain": [
       "array([0.004096, 0.046656])"
      ]
     },
     "execution_count": 131,
     "metadata": {},
     "output_type": "execute_result"
    }
   ],
   "source": [
    "result = beta.cdf(fair_rate,heads_q1,tails_q1)\n",
    "result"
   ]
  },
  {
   "cell_type": "markdown",
   "metadata": {},
   "source": [
    "The result is the cumulative distribution up to the lower bound (0.4) and up to the upper bound (0.6). To get the probability that the true rate of heads falls below that, subtract the lower bound output from the upper bound.\n",
    "\n",
    "*Note: If either alpha or beta is 0, the result will be nan.*"
   ]
  },
  {
   "cell_type": "code",
   "execution_count": 48,
   "metadata": {},
   "outputs": [
    {
     "data": {
      "text/plain": [
       "0.04255999999999999"
      ]
     },
     "execution_count": 48,
     "metadata": {},
     "output_type": "execute_result"
    }
   ],
   "source": [
    "result[-1] - result[0]"
   ]
  },
  {
   "cell_type": "code",
   "execution_count": 270,
   "metadata": {},
   "outputs": [],
   "source": [
    "def beta_prob(a=1,b=1,bounds=[0.0,1.0]):\n",
    "    \"\"\"\n",
    "    Calculates beta probability between a lower and upper bound.\n",
    "    \n",
    "    Parameters\n",
    "    ----------\n",
    "    a: int \n",
    "        alpha\n",
    "        \n",
    "    b: int\n",
    "        beta\n",
    "        \n",
    "    bounds: list\n",
    "        lower bound,upper bound\n",
    "    \n",
    "    Returns\n",
    "    -------\n",
    "    out: np.float64\n",
    "        probability\n",
    "    \"\"\"\n",
    "    result = beta.cdf(bounds,a,b)\n",
    "    return result[-1] - result[0]"
   ]
  },
  {
   "cell_type": "code",
   "execution_count": 271,
   "metadata": {},
   "outputs": [
    {
     "data": {
      "text/plain": [
       "0.04255999999999999"
      ]
     },
     "execution_count": 271,
     "metadata": {},
     "output_type": "execute_result"
    }
   ],
   "source": [
    "beta_prob(6,1,[0.4,0.6])"
   ]
  },
  {
   "cell_type": "markdown",
   "metadata": {},
   "source": [
    "*2. Come up with a prior probability that the coin is fair. Use a beta distribution such that there is at least a 95 percent chance that the true rate of flipping heads is between 0.4 and 0.6.*"
   ]
  },
  {
   "cell_type": "markdown",
   "metadata": {},
   "source": [
    "Another way to phrase this question would be:\n",
    "\n",
    "What prior probability do you need to determine we are 95% the true rate of flipping heads is between 0.4 and 0.6?\n",
    "\n",
    "As Will Kurt points out in the answer, \"Any $\\alpha$<sub>prior</sub> = $\\beta$<sub>prior</sub> will give a 'fair' prior; and the larger those values are, the stronger that prior is.\"\n",
    "\n",
    "In other words, for a fair prior the successes should equal the failures. And if you take successes plus failures, the higher the number, the better."
   ]
  },
  {
   "cell_type": "code",
   "execution_count": 90,
   "metadata": {},
   "outputs": [
    {
     "data": {
      "text/plain": [
       "0.7208847847634349"
      ]
     },
     "execution_count": 90,
     "metadata": {},
     "output_type": "execute_result"
    }
   ],
   "source": [
    "beta_prob(fair_rate,26,21)"
   ]
  },
  {
   "cell_type": "code",
   "execution_count": 97,
   "metadata": {},
   "outputs": [
    {
     "data": {
      "text/plain": [
       "[0, 10, 20, 30, 40, 50, 60, 70, 80, 90, 100]"
      ]
     },
     "execution_count": 97,
     "metadata": {},
     "output_type": "execute_result"
    }
   ],
   "source": [
    "steps = [n for n in np.arange(0,101,10)]\n",
    "steps"
   ]
  },
  {
   "cell_type": "code",
   "execution_count": 106,
   "metadata": {},
   "outputs": [
    {
     "name": "stdout",
     "output_type": "stream",
     "text": [
      "0: 0.04\n",
      "10: 0.31\n",
      "20: 0.50\n",
      "30: 0.63\n",
      "40: 0.72\n",
      "50: 0.79\n",
      "60: 0.84\n",
      "70: 0.87\n",
      "80: 0.90\n",
      "90: 0.92\n",
      "100: 0.94\n"
     ]
    }
   ],
   "source": [
    "for s in steps:\n",
    "    n = s/2\n",
    "    print(f'{s}: {beta_prob(fair_rate,6+n,1+n):.2f}')"
   ]
  },
  {
   "cell_type": "code",
   "execution_count": 116,
   "metadata": {},
   "outputs": [
    {
     "data": {
      "text/plain": [
       "[107, 108, 109, 110]"
      ]
     },
     "execution_count": 116,
     "metadata": {},
     "output_type": "execute_result"
    }
   ],
   "source": [
    "steps_2 = [n for n in np.arange(107,111,1)]\n",
    "steps_2"
   ]
  },
  {
   "cell_type": "code",
   "execution_count": 117,
   "metadata": {},
   "outputs": [
    {
     "name": "stdout",
     "output_type": "stream",
     "text": [
      "0.9492233998960515\n",
      "0.9504274807668823\n",
      "0.9516017214580128\n",
      "0.9527469094270735\n"
     ]
    }
   ],
   "source": [
    "for s in steps_2:\n",
    "    n = s/2\n",
    "    print(beta_prob(fair_rate,6+n,1+n))"
   ]
  },
  {
   "cell_type": "code",
   "execution_count": 189,
   "metadata": {},
   "outputs": [],
   "source": [
    "def beta_prior_finder(bounds=[0.0,1.0], a=1,b=1,start=0,finish=10,step=1):\n",
    "    \"\"\"\n",
    "    work in progress, starting with 'fair' prior\n",
    "    really, fair_beta_prior_finder\n",
    "    if 'fair', prior returned is divided equally amongst alpha and beta\n",
    "    returns confidence level for certain prior n\n",
    "    returns (prior, prob)\n",
    "    \"\"\"\n",
    "    prior_range = [n for n in np.arange(start,finish,step)]\n",
    "    return [(n,beta_prob(bounds,a+n/2,b+n/2)) for n in prior_range]"
   ]
  },
  {
   "cell_type": "code",
   "execution_count": 160,
   "metadata": {},
   "outputs": [
    {
     "data": {
      "text/plain": [
       "[(107, 0.9492233998960515),\n",
       " (108, 0.9504274807668823),\n",
       " (109, 0.9516017214580128),\n",
       " (110, 0.9527469094270735)]"
      ]
     },
     "execution_count": 160,
     "metadata": {},
     "output_type": "execute_result"
    }
   ],
   "source": [
    "beta_prior_finder(bounds=[0.4,0.6],a=6,b=1,start=107,finish=111,step=1)"
   ]
  },
  {
   "cell_type": "markdown",
   "metadata": {},
   "source": [
    "So this says we'd need a prior of 108 to be 95% certain"
   ]
  },
  {
   "cell_type": "code",
   "execution_count": 269,
   "metadata": {},
   "outputs": [
    {
     "ename": "SyntaxError",
     "evalue": "invalid syntax (<ipython-input-269-088533af84dc>, line 5)",
     "output_type": "error",
     "traceback": [
      "\u001b[0;36m  File \u001b[0;32m\"<ipython-input-269-088533af84dc>\"\u001b[0;36m, line \u001b[0;32m5\u001b[0m\n\u001b[0;31m    plt.show()\u001b[0m\n\u001b[0m      ^\u001b[0m\n\u001b[0;31mSyntaxError\u001b[0m\u001b[0;31m:\u001b[0m invalid syntax\n"
     ]
    }
   ],
   "source": [
    "x = np.arange(1,7,1)\n",
    "\n",
    "fig,ax = plt.subplots()\n",
    "ax.plot(x,beta_pdf\n",
    "plt.show()"
   ]
  },
  {
   "cell_type": "code",
   "execution_count": 239,
   "metadata": {},
   "outputs": [
    {
     "data": {
      "text/plain": [
       "(2,)"
      ]
     },
     "execution_count": 239,
     "metadata": {},
     "output_type": "execute_result"
    }
   ],
   "source": [
    "y.shape"
   ]
  },
  {
   "cell_type": "markdown",
   "metadata": {},
   "source": [
    "## `Notes`"
   ]
  },
  {
   "cell_type": "markdown",
   "metadata": {},
   "source": [
    "Think of some binary outcomes where this might be useful in your life."
   ]
  },
  {
   "cell_type": "code",
   "execution_count": null,
   "metadata": {},
   "outputs": [],
   "source": []
  }
 ],
 "metadata": {
  "kernelspec": {
   "display_name": "Python 3",
   "language": "python",
   "name": "python3"
  },
  "language_info": {
   "codemirror_mode": {
    "name": "ipython",
    "version": 3
   },
   "file_extension": ".py",
   "mimetype": "text/x-python",
   "name": "python",
   "nbconvert_exporter": "python",
   "pygments_lexer": "ipython3",
   "version": "3.6.9"
  }
 },
 "nbformat": 4,
 "nbformat_minor": 2
}
