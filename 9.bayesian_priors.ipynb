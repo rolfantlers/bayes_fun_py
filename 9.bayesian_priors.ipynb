{
 "cells": [
  {
   "cell_type": "code",
   "execution_count": 3,
   "metadata": {},
   "outputs": [],
   "source": [
    "# basic functions\n",
    "import math\n",
    "import numpy as np"
   ]
  },
  {
   "cell_type": "code",
   "execution_count": 4,
   "metadata": {},
   "outputs": [],
   "source": [
    "#visual style\n",
    "import matplotlib.pyplot as plt\n",
    "\n",
    "%matplotlib inline"
   ]
  },
  {
   "cell_type": "markdown",
   "metadata": {},
   "source": [
    "## `Exercises`"
   ]
  },
  {
   "cell_type": "markdown",
   "metadata": {},
   "source": [
    "*1. A friend finds a coin on the ground, flips it, and gets six heads in a row and then one tails. Give the beta distribution that describes this. Use integration to determine the probability that the true rate of flipping heads is between 0.4 and 0.6, reflecting that the coin is reasonably fair.*"
   ]
  },
  {
   "cell_type": "markdown",
   "metadata": {},
   "source": [
    "The **Beta Distibution** parameters are **`alpha (observed successes)`** and **`beta (observed failures)`**. Problems using this distribution calculate the rate of success given the data we have.\n",
    "\n",
    "P(RateOfSuccess|Successes and Failures) = Beta($\\alpha$,$\\beta$)\n",
    "\n",
    "For this problem the **Number of Heads = 6** (ie \"successes\") and the number of failures equals the **Number of Tails = 1**\n",
    "\n",
    "With this data we can determine the chances that the coin is fair or \"that the true rate of flipping heads is between 0.4 and 0.6.\"\n",
    "\n",
    "To solve this using Python, use **`from scipy.stats import beta`**.\n",
    "\n",
    "Another way of thinking about this is \"What is the probability the rate of heads is between 0.4 and 0.6?\" \n",
    "\n",
    "To do that, look at the chunk of probability that falls between those two bookends using the cumulative distribution method or **`cdf`** method."
   ]
  },
  {
   "cell_type": "code",
   "execution_count": 5,
   "metadata": {},
   "outputs": [],
   "source": [
    "from scipy.stats import beta"
   ]
  },
  {
   "cell_type": "code",
   "execution_count": 6,
   "metadata": {},
   "outputs": [],
   "source": [
    "# parameters\n",
    "heads_q1 = 6\n",
    "tails_q1 = 1\n",
    "fair_rate = [0.4,0.6]"
   ]
  },
  {
   "cell_type": "code",
   "execution_count": 7,
   "metadata": {},
   "outputs": [
    {
     "data": {
      "text/plain": [
       "array([0.004096, 0.046656])"
      ]
     },
     "execution_count": 7,
     "metadata": {},
     "output_type": "execute_result"
    }
   ],
   "source": [
    "result = beta.cdf(fair_rate,heads_q1,tails_q1)\n",
    "result"
   ]
  },
  {
   "cell_type": "markdown",
   "metadata": {},
   "source": [
    "The result is the cumulative distribution up to the lower bound (0.4) and up to the upper bound (0.6). To get the probability that the true rate of heads falls below that, subtract the lower bound output from the upper bound.\n",
    "\n",
    "*Note: If either alpha or beta is 0, the result will be nan.*"
   ]
  },
  {
   "cell_type": "code",
   "execution_count": 8,
   "metadata": {},
   "outputs": [
    {
     "data": {
      "text/plain": [
       "0.04255999999999999"
      ]
     },
     "execution_count": 8,
     "metadata": {},
     "output_type": "execute_result"
    }
   ],
   "source": [
    "result[-1] - result[0]"
   ]
  },
  {
   "cell_type": "code",
   "execution_count": 9,
   "metadata": {},
   "outputs": [],
   "source": [
    "def beta_prob(a=1,b=1,bounds=[0.0,1.0]):\n",
    "    \"\"\"\n",
    "    Calculates beta probability between a lower and upper bound.\n",
    "    \n",
    "    Parameters\n",
    "    ----------\n",
    "    a: int \n",
    "        alpha\n",
    "        \n",
    "    b: int\n",
    "        beta\n",
    "        \n",
    "    bounds: list\n",
    "        lower bound,upper bound\n",
    "    \n",
    "    Returns\n",
    "    -------\n",
    "    out: np.float64\n",
    "        probability\n",
    "    \"\"\"\n",
    "    result = beta.cdf(bounds,a,b)\n",
    "    return result[-1] - result[0]"
   ]
  },
  {
   "cell_type": "code",
   "execution_count": 19,
   "metadata": {},
   "outputs": [
    {
     "data": {
      "text/plain": [
       "0.04255999999999999"
      ]
     },
     "execution_count": 19,
     "metadata": {},
     "output_type": "execute_result"
    }
   ],
   "source": [
    "beta_prob(6,1,[0.4,0.6])"
   ]
  },
  {
   "cell_type": "markdown",
   "metadata": {},
   "source": [
    "*2. Come up with a prior probability that the coin is fair. Use a beta distribution such that there is at least a 95 percent chance that the true rate of flipping heads is between 0.4 and 0.6.*"
   ]
  },
  {
   "cell_type": "markdown",
   "metadata": {},
   "source": [
    "Another way to phrase this question would be:\n",
    "\n",
    "What prior probability do you need to determine we are 95% the true rate of flipping heads is between 0.4 and 0.6?\n",
    "\n",
    "As Will Kurt points out in the answer, \"Any $\\alpha$<sub>prior</sub> = $\\beta$<sub>prior</sub> will give a 'fair' prior; and the larger those values are, the stronger that prior is.\"\n",
    "\n",
    "In other words, for a fair prior the successes should equal the failures. And if you take successes plus failures, the higher the number, the better."
   ]
  },
  {
   "cell_type": "code",
   "execution_count": 25,
   "metadata": {},
   "outputs": [
    {
     "data": {
      "text/plain": [
       "0.7208847847634349"
      ]
     },
     "execution_count": 25,
     "metadata": {},
     "output_type": "execute_result"
    }
   ],
   "source": [
    "beta_prob(26,21,[0.4,0.6])"
   ]
  },
  {
   "cell_type": "code",
   "execution_count": 31,
   "metadata": {},
   "outputs": [
    {
     "data": {
      "text/plain": [
       "[0, 10, 20, 30, 40, 50, 60, 70, 80, 90, 100, 110]"
      ]
     },
     "execution_count": 31,
     "metadata": {},
     "output_type": "execute_result"
    }
   ],
   "source": [
    "steps = [n for n in np.arange(0,111,10)]\n",
    "steps"
   ]
  },
  {
   "cell_type": "code",
   "execution_count": 32,
   "metadata": {},
   "outputs": [
    {
     "name": "stdout",
     "output_type": "stream",
     "text": [
      "0: 0.04\n",
      "10: 0.31\n",
      "20: 0.50\n",
      "30: 0.63\n",
      "40: 0.72\n",
      "50: 0.79\n",
      "60: 0.84\n",
      "70: 0.87\n",
      "80: 0.90\n",
      "90: 0.92\n",
      "100: 0.94\n",
      "110: 0.95\n"
     ]
    }
   ],
   "source": [
    "for s in steps:\n",
    "    n = s/2\n",
    "    print(f'{s}: {beta_prob(6+n,1+n,bounds=[0.4,0.6]):.2f}')"
   ]
  },
  {
   "cell_type": "code",
   "execution_count": 35,
   "metadata": {},
   "outputs": [
    {
     "data": {
      "text/plain": [
       "[100, 101, 102, 103, 104, 105, 106, 107, 108, 109, 110]"
      ]
     },
     "execution_count": 35,
     "metadata": {},
     "output_type": "execute_result"
    }
   ],
   "source": [
    "steps_2 = [n for n in np.arange(100,111,1)]\n",
    "steps_2"
   ]
  },
  {
   "cell_type": "code",
   "execution_count": 39,
   "metadata": {},
   "outputs": [
    {
     "name": "stdout",
     "output_type": "stream",
     "text": [
      "100: 0.9399\n",
      "101: 0.9413\n",
      "102: 0.9427\n",
      "103: 0.9441\n",
      "104: 0.9454\n",
      "105: 0.9467\n",
      "106: 0.9480\n",
      "107: 0.9492\n",
      "108: 0.9504\n",
      "109: 0.9516\n",
      "110: 0.9527\n"
     ]
    }
   ],
   "source": [
    "for s in steps_2:\n",
    "    n = s/2\n",
    "    print(f'{s}: {beta_prob(6+n,1+n,bounds=[0.4,0.6]):.4f}')"
   ]
  },
  {
   "cell_type": "markdown",
   "metadata": {},
   "source": [
    "*3. Now see how many more heads (with no more tails) it would take to convince you that there is a reasonable chance that the coin is not fair. In this case, let's say that this means that our belief in the rate of the coin being between 0.4 and 0.6 drops below 0.5.*"
   ]
  },
  {
   "cell_type": "markdown",
   "metadata": {},
   "source": [
    "This is working off the Beta(55,55) prior. The point of this exercise is to show that even a strong prior belief can be overcome with more data."
   ]
  },
  {
   "cell_type": "code",
   "execution_count": 51,
   "metadata": {},
   "outputs": [
    {
     "data": {
      "text/plain": [
       "0.9527469094270735"
      ]
     },
     "execution_count": 51,
     "metadata": {},
     "output_type": "execute_result"
    }
   ],
   "source": [
    "beta_prob(61,56,[0.4,0.6])"
   ]
  },
  {
   "cell_type": "code",
   "execution_count": 52,
   "metadata": {},
   "outputs": [
    {
     "data": {
      "text/plain": [
       "0.4954058980753927"
      ]
     },
     "execution_count": 52,
     "metadata": {},
     "output_type": "execute_result"
    }
   ],
   "source": [
    "beta_prob(84,56,[0.4,0.6])"
   ]
  },
  {
   "cell_type": "code",
   "execution_count": 64,
   "metadata": {},
   "outputs": [],
   "source": [
    "def beta_prior_finder(bounds=[0.0,1.0], a=1,b=1,start=0,finish=10,step=1):\n",
    "    \"\"\"\n",
    "    work in progress, starting with 'fair' prior\n",
    "    really, fair_beta_prior_finder\n",
    "    if 'fair', prior returned is divided equally amongst alpha and beta\n",
    "    returns confidence level for certain prior n\n",
    "    returns (prior, prob)\n",
    "    \"\"\"\n",
    "    prior_range = [n/2 for n in np.arange(start,finish,step)]\n",
    "    pass"
   ]
  },
  {
   "cell_type": "markdown",
   "metadata": {},
   "source": [
    "So this says we'd need a prior of 108 to be 95% certain"
   ]
  },
  {
   "cell_type": "code",
   "execution_count": 18,
   "metadata": {},
   "outputs": [
    {
     "ename": "SyntaxError",
     "evalue": "invalid syntax (<ipython-input-18-4a1c8342ed38>, line 5)",
     "output_type": "error",
     "traceback": [
      "\u001b[1;36m  File \u001b[1;32m\"<ipython-input-18-4a1c8342ed38>\"\u001b[1;36m, line \u001b[1;32m5\u001b[0m\n\u001b[1;33m    plt.show()\u001b[0m\n\u001b[1;37m      ^\u001b[0m\n\u001b[1;31mSyntaxError\u001b[0m\u001b[1;31m:\u001b[0m invalid syntax\n"
     ]
    }
   ],
   "source": [
    "x = np.arange(1,7,1)\n",
    "\n",
    "fig,ax = plt.subplots()\n",
    "ax.plot(x,beta_pdf\n",
    "plt.show()"
   ]
  },
  {
   "cell_type": "code",
   "execution_count": null,
   "metadata": {},
   "outputs": [],
   "source": [
    "y.shape"
   ]
  },
  {
   "cell_type": "markdown",
   "metadata": {},
   "source": [
    "## `Notes`"
   ]
  },
  {
   "cell_type": "markdown",
   "metadata": {},
   "source": [
    "Think of some binary outcomes where this might be useful in your life."
   ]
  },
  {
   "cell_type": "code",
   "execution_count": null,
   "metadata": {},
   "outputs": [],
   "source": []
  }
 ],
 "metadata": {
  "kernelspec": {
   "display_name": "Python 3",
   "language": "python",
   "name": "python3"
  },
  "language_info": {
   "codemirror_mode": {
    "name": "ipython",
    "version": 3
   },
   "file_extension": ".py",
   "mimetype": "text/x-python",
   "name": "python",
   "nbconvert_exporter": "python",
   "pygments_lexer": "ipython3",
   "version": "3.7.3"
  }
 },
 "nbformat": 4,
 "nbformat_minor": 2
}
