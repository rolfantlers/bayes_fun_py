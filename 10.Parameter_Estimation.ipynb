{
 "cells": [
  {
   "cell_type": "code",
   "execution_count": 3,
   "metadata": {},
   "outputs": [],
   "source": [
    "# basic functions\n",
    "import math\n",
    "import numpy as np"
   ]
  },
  {
   "cell_type": "code",
   "execution_count": 4,
   "metadata": {},
   "outputs": [],
   "source": [
    "#visual style\n",
    "import matplotlib.pyplot as plt\n",
    "\n",
    "%matplotlib inline"
   ]
  },
  {
   "cell_type": "code",
   "execution_count": 5,
   "metadata": {},
   "outputs": [],
   "source": [
    "from scipy.stats import beta"
   ]
  },
  {
   "cell_type": "markdown",
   "metadata": {},
   "source": [
    "## `Exercises`"
   ]
  },
  {
   "cell_type": "markdown",
   "metadata": {},
   "source": [
    "*1. It's possible to get errors that don't quite cancel out the way we want. In the Fahrenheit temperature scale, 98.6 degrees is the normal body temperature and 100.4 degrees is the typical threshold for a fever. Say you are taking care of a child that feels warm and seems sick, but you take repeated readings from the thermometer and they all read between 99.5 and 100.0 degrees: warm, but not quite a fever. You try the thermometer yourself and get serveral readings between 97.5 and 98. What could be wrong with the thermometer?*"
   ]
  },
  {
   "cell_type": "markdown",
   "metadata": {},
   "source": [
    "It seems like the thermometer is biased and underestimating the temperature. In the case of the 'normal' readings it could be 0.6 to 1.1 degrees too low or 0.85 when you average the two together. "
   ]
  },
  {
   "cell_type": "markdown",
   "metadata": {},
   "source": [
    "*2. Given that you feel healthy and have traditionally had a very consistently normal temperature, how could you alter the measurements 100, 99.5, 99.6, and 100.2 to estimate if the child has a fever?*"
   ]
  },
  {
   "cell_type": "markdown",
   "metadata": {},
   "source": [
    "Perhaps you could adjust the child readings by 0.6 to 1.1 which suggests a temperature between 100.1 and 101.0. It seems much more likely the child has a fever."
   ]
  },
  {
   "cell_type": "code",
   "execution_count": 6,
   "metadata": {},
   "outputs": [],
   "source": [
    "temps = [100,99.5, 99.6, 100.2]"
   ]
  },
  {
   "cell_type": "code",
   "execution_count": 8,
   "metadata": {},
   "outputs": [
    {
     "name": "stdout",
     "output_type": "stream",
     "text": [
      "Adjusted temp:(100.6, 101.1)\n",
      "Adjusted temp:(100.1, 100.6)\n",
      "Adjusted temp:(100.19999999999999, 100.69999999999999)\n",
      "Adjusted temp:(100.8, 101.3)\n"
     ]
    }
   ],
   "source": [
    "for t in temps:\n",
    "    print(f'Adjusted temp:{t+0.6,t+1.1}')"
   ]
  },
  {
   "cell_type": "code",
   "execution_count": 30,
   "metadata": {},
   "outputs": [],
   "source": [
    "temp_1 = [t+0.6 for t in temps]\n",
    "temp_2 = [t+1.1 for t in temps]\n",
    "temp_range = temp_1 + temp_2"
   ]
  },
  {
   "cell_type": "code",
   "execution_count": 34,
   "metadata": {},
   "outputs": [],
   "source": [
    "def temp_prior():\n",
    "    n = 0\n",
    "    for t in temp_range:\n",
    "        if t>=100.4:\n",
    "            n+=1\n",
    "    return n, len(temp_range) - n"
   ]
  },
  {
   "cell_type": "code",
   "execution_count": 36,
   "metadata": {},
   "outputs": [
    {
     "data": {
      "text/plain": [
       "(6, 2)"
      ]
     },
     "execution_count": 36,
     "metadata": {},
     "output_type": "execute_result"
    }
   ],
   "source": [
    "temp_prior()"
   ]
  },
  {
   "cell_type": "code",
   "execution_count": 44,
   "metadata": {},
   "outputs": [
    {
     "data": {
      "text/plain": [
       "0.6705828000000003"
      ]
     },
     "execution_count": 44,
     "metadata": {},
     "output_type": "execute_result"
    }
   ],
   "source": [
    "beta_prob(6,2,[0.7,1.0])"
   ]
  },
  {
   "cell_type": "code",
   "execution_count": 38,
   "metadata": {},
   "outputs": [],
   "source": [
    "def beta_prob(a=1,b=1,bounds=[0.0,1.0]):\n",
    "    \"\"\"\n",
    "    Calculates beta probability between a lower and upper bound.\n",
    "    \n",
    "    Parameters\n",
    "    ----------\n",
    "    a: int \n",
    "        alpha\n",
    "        \n",
    "    b: int\n",
    "        beta\n",
    "        \n",
    "    bounds: list\n",
    "        lower bound,upper bound\n",
    "    \n",
    "    Returns\n",
    "    -------\n",
    "    out: np.float64\n",
    "        probability\n",
    "    \"\"\"\n",
    "    result = beta.cdf(bounds,a,b)\n",
    "    return result[-1] - result[0]"
   ]
  },
  {
   "cell_type": "code",
   "execution_count": null,
   "metadata": {},
   "outputs": [],
   "source": []
  }
 ],
 "metadata": {
  "kernelspec": {
   "display_name": "Python 3",
   "language": "python",
   "name": "python3"
  },
  "language_info": {
   "codemirror_mode": {
    "name": "ipython",
    "version": 3
   },
   "file_extension": ".py",
   "mimetype": "text/x-python",
   "name": "python",
   "nbconvert_exporter": "python",
   "pygments_lexer": "ipython3",
   "version": "3.7.3"
  }
 },
 "nbformat": 4,
 "nbformat_minor": 2
}
