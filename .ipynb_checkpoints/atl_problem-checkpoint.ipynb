{
 "cells": [
  {
   "cell_type": "code",
   "execution_count": 3,
   "metadata": {},
   "outputs": [],
   "source": [
    "import numpy as np\n",
    "from scipy.stats import beta"
   ]
  },
  {
   "cell_type": "markdown",
   "metadata": {},
   "source": [
    "Background: On **February 25th, 2019** The Atlanta-Journal Constitution reported that events at Mercedes-Benz Stadium draw smaller crowds than are actually reported. The journalist who wrote the story obtained the true numbers (ie \"turnstile counts\") through a freedom of information request.\n",
    "\n",
    "Hypotheosis: All stadiums over report attendance figures.\n",
    "\n",
    "Hypotheosis: Using the true rates from the turnstile counts at MBS will give us an more accurate attendance rate for any stadium."
   ]
  },
  {
   "cell_type": "code",
   "execution_count": 4,
   "metadata": {},
   "outputs": [],
   "source": [
    "# (actual, reported)\n",
    "event_attendance = [\n",
    "    (56470,72084),\n",
    "    (69614,77141),\n",
    "    (69004,73019),\n",
    "    (45605, 45605),\n",
    "    (20609,31672),\n",
    "    (68413,74006),\n",
    "]"
   ]
  },
  {
   "cell_type": "code",
   "execution_count": 6,
   "metadata": {},
   "outputs": [],
   "source": [
    "# true is viewed as a win, announced less true is a loss\n",
    "adj_attend = [(ev[0], ev[1] - ev[0])for ev in event_attendance]"
   ]
  },
  {
   "cell_type": "code",
   "execution_count": 12,
   "metadata": {},
   "outputs": [],
   "source": [
    "w,l = 0,0\n",
    "for a in adj_attend:\n",
    "    w += a[0]\n",
    "    l += a[1]"
   ]
  },
  {
   "cell_type": "code",
   "execution_count": 23,
   "metadata": {},
   "outputs": [],
   "source": [
    "prior = (500,100)\n",
    "a = prior[0] + w\n",
    "b = prior[1] + l"
   ]
  },
  {
   "cell_type": "code",
   "execution_count": 25,
   "metadata": {},
   "outputs": [
    {
     "data": {
      "text/plain": [
       "array([0.88140093, 0.8837066 ])"
      ]
     },
     "execution_count": 25,
     "metadata": {},
     "output_type": "execute_result"
    }
   ],
   "source": [
    "beta.ppf([0.01,0.98], a,b)"
   ]
  },
  {
   "cell_type": "code",
   "execution_count": 31,
   "metadata": {},
   "outputs": [
    {
     "data": {
      "text/plain": [
       "(-5408.753000000004, 7306.700799999999)"
      ]
     },
     "execution_count": 31,
     "metadata": {},
     "output_type": "execute_result"
    }
   ],
   "source": [
    "true_attend = [event[1]*0.8814 - event[0] for event in event_attendance]\n",
    "np.min(true_attend), np.max(true_attend)"
   ]
  },
  {
   "cell_type": "code",
   "execution_count": 32,
   "metadata": {},
   "outputs": [
    {
     "data": {
      "text/plain": [
       "(-5303.861499999999, 7379.546400000003)"
      ]
     },
     "execution_count": 32,
     "metadata": {},
     "output_type": "execute_result"
    }
   ],
   "source": [
    "true_attend2 = [event[1]*0.8837 - event[0] for event in event_attendance]\n",
    "np.min(true_attend2), np.max(true_attend2)"
   ]
  },
  {
   "cell_type": "code",
   "execution_count": 34,
   "metadata": {},
   "outputs": [
    {
     "data": {
      "text/plain": [
       "15614"
      ]
     },
     "execution_count": 34,
     "metadata": {},
     "output_type": "execute_result"
    }
   ],
   "source": [
    "event_attendance[0][1] - event_attendance[0][0]"
   ]
  },
  {
   "cell_type": "code",
   "execution_count": 36,
   "metadata": {},
   "outputs": [
    {
     "data": {
      "text/plain": [
       "8650.08"
      ]
     },
     "execution_count": 36,
     "metadata": {},
     "output_type": "execute_result"
    }
   ],
   "source": [
    "72084*.12"
   ]
  },
  {
   "cell_type": "code",
   "execution_count": 37,
   "metadata": {},
   "outputs": [],
   "source": [
    "# event type * capacity * reg%capacity * overstate"
   ]
  },
  {
   "cell_type": "code",
   "execution_count": null,
   "metadata": {},
   "outputs": [],
   "source": []
  }
 ],
 "metadata": {
  "kernelspec": {
   "display_name": "Python 3",
   "language": "python",
   "name": "python3"
  },
  "language_info": {
   "codemirror_mode": {
    "name": "ipython",
    "version": 3
   },
   "file_extension": ".py",
   "mimetype": "text/x-python",
   "name": "python",
   "nbconvert_exporter": "python",
   "pygments_lexer": "ipython3",
   "version": "3.7.3"
  }
 },
 "nbformat": 4,
 "nbformat_minor": 2
}
