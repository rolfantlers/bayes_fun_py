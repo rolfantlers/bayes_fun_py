{
 "cells": [
  {
   "cell_type": "code",
   "execution_count": 2,
   "metadata": {},
   "outputs": [],
   "source": [
    "# basic functions\n",
    "import math\n",
    "import numpy as np\n",
    "from scipy.special import comb\n",
    "from scipy.stats import binom"
   ]
  },
  {
   "cell_type": "code",
   "execution_count": 27,
   "metadata": {},
   "outputs": [],
   "source": [
    "import matplotlib as mpl\n",
    "import matplotlib.pyplot as plt\n",
    "\n",
    "plt.style.use('seaborn') # use seaborn plotting style\n",
    "mpl.rcParams['font.family'] = 'serif'\n",
    "\n",
    "%matplotlib inline"
   ]
  },
  {
   "cell_type": "markdown",
   "metadata": {},
   "source": [
    "**Scipy** has a module called [scipy.stats](https://docs.scipy.org/doc/scipy/reference/stats.html) that has a binomial distribution function under the header **Discrete Distributions**"
   ]
  },
  {
   "cell_type": "markdown",
   "metadata": {},
   "source": [
    "[Scipy.special](https://docs.scipy.org/doc/scipy/reference/special.html)\n",
    "\n",
    "[Scipy.stats Docs](https://docs.scipy.org/doc/scipy/reference/stats.html) "
   ]
  },
  {
   "cell_type": "code",
   "execution_count": 6,
   "metadata": {},
   "outputs": [
    {
     "data": {
      "text/plain": [
       "3"
      ]
     },
     "execution_count": 6,
     "metadata": {},
     "output_type": "execute_result"
    }
   ],
   "source": [
    "comb(N=3,k=2,exact=True) # exact=True returns an integer, exact=False float"
   ]
  },
  {
   "cell_type": "markdown",
   "metadata": {},
   "source": [
    "**Scipy.stats** uses [**binom.pmf**](https://docs.scipy.org/doc/scipy/reference/generated/scipy.stats.binom.html#scipy.stats.binom) to calculate the binomial *probability mass function*.\n",
    "\n",
    "On **page 39** is the example:\n",
    "\n",
    "> *We could calculate the probability of flipping exactly 12 heads in 24 coin tosses.*\n",
    "\n",
    "binom.pmf(k,n,p)\n",
    "\n",
    "k = 12\n",
    "n = 24\n",
    "p = 0.5"
   ]
  },
  {
   "cell_type": "code",
   "execution_count": 7,
   "metadata": {},
   "outputs": [
    {
     "data": {
      "text/plain": [
       "0.1612"
      ]
     },
     "execution_count": 7,
     "metadata": {},
     "output_type": "execute_result"
    }
   ],
   "source": [
    "probability = binom.pmf(12,24,0.5)\n",
    "\n",
    "round(probability,4) # round returns an integer to four decimal places"
   ]
  },
  {
   "cell_type": "code",
   "execution_count": 5,
   "metadata": {},
   "outputs": [],
   "source": [
    "nums = np.arange(12+24+1)"
   ]
  },
  {
   "cell_type": "code",
   "execution_count": 8,
   "metadata": {},
   "outputs": [],
   "source": [
    "trials = 12 + 24"
   ]
  },
  {
   "cell_type": "code",
   "execution_count": 11,
   "metadata": {},
   "outputs": [],
   "source": [
    "discrete_outcomes = [(n,36-n)for n in np.arange(trials+1)]"
   ]
  },
  {
   "cell_type": "code",
   "execution_count": 15,
   "metadata": {},
   "outputs": [
    {
     "data": {
      "text/plain": [
       "50.0"
      ]
     },
     "execution_count": 15,
     "metadata": {},
     "output_type": "execute_result"
    }
   ],
   "source": [
    "prob_intervals = np.linspace(0,1.0,num=100)"
   ]
  },
  {
   "cell_type": "code",
   "execution_count": 8,
   "metadata": {},
   "outputs": [],
   "source": [
    "probs = [binom.pmf(n,24,0.5) for n in nums]"
   ]
  },
  {
   "cell_type": "code",
   "execution_count": 20,
   "metadata": {},
   "outputs": [
    {
     "data": {
      "text/plain": [
       "0.0"
      ]
     },
     "execution_count": 20,
     "metadata": {},
     "output_type": "execute_result"
    }
   ],
   "source": [
    "binom.pmf(trials,2,.1)"
   ]
  },
  {
   "cell_type": "markdown",
   "metadata": {},
   "source": [
    "### `Example: Gacha Games`\n",
    "\n",
    "> Is the probability of getting a E.T. Jaynes card greater than or equal to 0.5?\n",
    "\n",
    "**ADD LATEX HERE**\n",
    "\n",
    "number of items (n) = 100\n",
    "\n",
    "number of ET Jaynes cards (k) is *greater than or equal to one*\n",
    "\n",
    "random chance of getting ET Jaynes card (p) = 0.720% (not 72.0%!)\n",
    "\n",
    "There are two ways to approach this problem using scipy:\n",
    "1. Use binom.sf \"survival function\"\n",
    "2. Use binom.cdf \"cumulative density function\"\n",
    "\n",
    "We'll use binom.sf first because it is the most similar to the example illustrated in the book. \n",
    "\n",
    "The pmf calculates the probability for a specific number k. But since we are only concerned with getinng *one ET Jaynes card **or more*** we want to calculate a cumulative probability. So whether we get 1 card or 20 is OK. So essentially, what we are doing is calculating the pmf for every number up to 100 and adding all of those together.\n",
    "\n",
    "survival function prob at the random variable is larger (but not) equal to k\n",
    "\n",
    "binom.sf arguments:\n",
    "\n",
    "k = this is one less than minimum card we want (1) so 0.\n",
    "\n",
    "n = number of items (n) or 100\n",
    "\n",
    "p = 0.720% or 0.00720\n",
    "\n",
    "what does loc argument mean?"
   ]
  },
  {
   "cell_type": "code",
   "execution_count": 9,
   "metadata": {},
   "outputs": [
    {
     "data": {
      "text/plain": [
       "'0.51451 >= 0.5'"
      ]
     },
     "execution_count": 9,
     "metadata": {},
     "output_type": "execute_result"
    }
   ],
   "source": [
    "result = binom.sf(0,100,0.00720)\n",
    "\n",
    "f'{result:.5f} >= 0.5'"
   ]
  },
  {
   "cell_type": "markdown",
   "metadata": {},
   "source": [
    "Since 51.4% is greater than 50.0%, buy the cards"
   ]
  },
  {
   "cell_type": "markdown",
   "metadata": {},
   "source": [
    "The other way to go about this is to use binom.cdf\n",
    "\n",
    "What binom.cdf essentially says is we are looking for *the cumulative density up to a number*'. In this case that number is zero because if we get one, we're happy.\n",
    "\n",
    "The difference is that in this method, we're calculating the amount below our number (1) which is that chance we won't get one card.\n",
    "\n",
    "So we have to subtract this from 1 to get the 0.51451 answer."
   ]
  },
  {
   "cell_type": "code",
   "execution_count": 10,
   "metadata": {},
   "outputs": [
    {
     "data": {
      "text/plain": [
       "0.16242880152251793"
      ]
     },
     "execution_count": 10,
     "metadata": {},
     "output_type": "execute_result"
    }
   ],
   "source": [
    "1- binom.cdf(1,100,0.0072)"
   ]
  },
  {
   "cell_type": "markdown",
   "metadata": {},
   "source": [
    "Bonus example: What are the chances of getting at least two ET Jaynes cards?"
   ]
  },
  {
   "cell_type": "code",
   "execution_count": 11,
   "metadata": {},
   "outputs": [
    {
     "name": "stdout",
     "output_type": "stream",
     "text": [
      "sf approach: 0.16243\n",
      "cdf approach: 0.16243\n"
     ]
    }
   ],
   "source": [
    "sf_chance = binom.sf(1,100,0.0072)\n",
    "cdf_chance = 1 - binom.cdf(1,100,0.0072)\n",
    "print(f'sf approach: {sf_chance:.5f}')\n",
    "print(f'cdf approach: {cdf_chance:.5f}')"
   ]
  },
  {
   "cell_type": "markdown",
   "metadata": {},
   "source": [
    "### `Summary of Python used:`\n",
    "\n",
    "combinations: comb(N,k,exact=True)\n",
    "\n",
    "binomial probability mass function: binom.pmf(k,n,p)\n",
    "\n",
    "binomial survival function: binom.sf(k,n,p)\n",
    "\n",
    "binomial cumulative density function: binom.cdf(k,n,p)"
   ]
  },
  {
   "cell_type": "markdown",
   "metadata": {},
   "source": [
    "### `Questions`"
   ]
  },
  {
   "cell_type": "markdown",
   "metadata": {},
   "source": [
    "1. *What are the parameters of the binomial distribution for the probability of rolling either a 1 or 20 on a 20-sided die, if we roll the dies 12 times?*"
   ]
  },
  {
   "cell_type": "code",
   "execution_count": 30,
   "metadata": {},
   "outputs": [],
   "source": [
    "#n is the number of rolls or 'events'\n",
    "#k is the number of times we are looking for (in this case a single 1 or 20)"
   ]
  },
  {
   "cell_type": "markdown",
   "metadata": {},
   "source": [
    "> P(1 or 20) = 1/20 + 1/20 = 1/10<br>\n",
    "> p = 1/10<br>\n",
    "> n = 12<br>\n",
    "> k =1"
   ]
  },
  {
   "cell_type": "code",
   "execution_count": 31,
   "metadata": {},
   "outputs": [],
   "source": [
    "chance_1_or_20 = binom.pmf(1,12,0.1) * 100"
   ]
  },
  {
   "cell_type": "code",
   "execution_count": 32,
   "metadata": {},
   "outputs": [
    {
     "data": {
      "text/plain": [
       "'Chance of rolling a 1 or 20 in 12 rolls: 37.7%'"
      ]
     },
     "execution_count": 32,
     "metadata": {},
     "output_type": "execute_result"
    }
   ],
   "source": [
    "f\"Chance of rolling a 1 or 20 in 12 rolls: {chance_1_or_20:.1f}%\""
   ]
  },
  {
   "cell_type": "markdown",
   "metadata": {},
   "source": [
    "*`2. There are four aces in a deck of 52 cards. If you pull a card, return the card then reshuffle and pull a card again, how ways can you pull just one ace?`*"
   ]
  },
  {
   "cell_type": "markdown",
   "metadata": {},
   "source": [
    "This is a combinatorics problem. Will Kurt gives a simple intuitive explanation of how to approach the problem in the book's answer key. The Pythonic approach (below) is to recognize that we are looking for five card combinations that include **only one** ace or *'5 choose 1'*."
   ]
  },
  {
   "cell_type": "code",
   "execution_count": 39,
   "metadata": {},
   "outputs": [
    {
     "data": {
      "text/plain": [
       "5"
      ]
     },
     "execution_count": 39,
     "metadata": {},
     "output_type": "execute_result"
    }
   ],
   "source": [
    "comb(5,1, exact=True)"
   ]
  },
  {
   "cell_type": "markdown",
   "metadata": {},
   "source": [
    "*`3. For the example in question 2, what is the probability of pulling five aces in 10 pulls (remember the card is shuffled back in the deck when it is pulled)?`*"
   ]
  },
  {
   "cell_type": "markdown",
   "metadata": {},
   "source": [
    "*`4. When you're searching for a new job, it's alway helpful to have more than one offer on the table so you can use it in negotiations. If you have a 1/5 probability of receiving a job offer when you interview, and you interview with seven companies in a month, what is the probability you'll have at least two competing offers by the end of that month?`*"
   ]
  },
  {
   "cell_type": "markdown",
   "metadata": {},
   "source": [
    "In this case we are looking for *two job offers or more*.\n",
    "\n",
    "The best function to use in this scenario is the binomial survival function.\n",
    "\n",
    "this is: `binom.sf(k,n,p)`\n",
    "\n",
    "k = one less than the minimum number we want (2-1=1)\n",
    "\n",
    "n = number of interviews (7)\n",
    "\n",
    "p = probability of an offer (1/5)"
   ]
  },
  {
   "cell_type": "code",
   "execution_count": 78,
   "metadata": {},
   "outputs": [],
   "source": [
    "two_offers7 = binom.sf(1,7,1/5)*100"
   ]
  },
  {
   "cell_type": "code",
   "execution_count": 79,
   "metadata": {},
   "outputs": [
    {
     "data": {
      "text/plain": [
       "42.32832000000003"
      ]
     },
     "execution_count": 79,
     "metadata": {},
     "output_type": "execute_result"
    }
   ],
   "source": [
    "two_offers7"
   ]
  },
  {
   "cell_type": "markdown",
   "metadata": {},
   "source": [
    "*`5. You get a bunch of recruiter emails and find out you have 25 interviews lined up in the next month. Unfortunately, you know this will leave you exhausted, and the probability of getting an offer will drop to 1/10 if you're tired. You really don't want to go on this many interviews unless you are at least twice as likely to get at least two competing offers. Are you more likely to get at least two offers if you got for 25 interviews, or stick to 7?`*"
   ]
  },
  {
   "cell_type": "code",
   "execution_count": 67,
   "metadata": {},
   "outputs": [],
   "source": [
    "# k = 2\n",
    "# p =1/10\n",
    "# n = 25"
   ]
  },
  {
   "cell_type": "code",
   "execution_count": 71,
   "metadata": {},
   "outputs": [],
   "source": [
    "two_offers25 = binom.sf(1,25,0.1)*100"
   ]
  },
  {
   "cell_type": "code",
   "execution_count": 76,
   "metadata": {},
   "outputs": [
    {
     "name": "stdout",
     "output_type": "stream",
     "text": [
      "25 interviews: 72.9\n",
      "7 interviews: 42.3\n",
      "Odds boost: 1.72\n"
     ]
    }
   ],
   "source": [
    "print(f\"25 interviews: {two_offers25:.1f}\")\n",
    "print(f\"7 interviews: {two_offers7:.1f}\")\n",
    "print(f\"Odds boost: {two_offers25/two_offers7:.2f}\")"
   ]
  },
  {
   "cell_type": "code",
   "execution_count": 77,
   "metadata": {},
   "outputs": [
    {
     "data": {
      "text/plain": [
       "False"
      ]
     },
     "execution_count": 77,
     "metadata": {},
     "output_type": "execute_result"
    }
   ],
   "source": [
    "1.72 >= 2"
   ]
  },
  {
   "cell_type": "markdown",
   "metadata": {},
   "source": [
    "### `Etcetera`\n",
    "Likely to get deleted later."
   ]
  },
  {
   "cell_type": "code",
   "execution_count": 35,
   "metadata": {},
   "outputs": [],
   "source": [
    "def binom_probs(n,p):\n",
    "    \"\"\"\n",
    "    Given p, the chance of getting each number in this sequence.\n",
    "    \"\"\"\n",
    "    seq = [n for n in np.arange(n+1)] # a range start parameter\n",
    "    return [binom.pmf(s,n,p) for s in seq]"
   ]
  },
  {
   "cell_type": "code",
   "execution_count": 40,
   "metadata": {},
   "outputs": [
    {
     "data": {
      "image/png": "[encoded data removed]",
      "text/plain": [
       "<Figure size 432x288 with 1 Axes>"
      ]
     },
     "metadata": {
      "needs_background": "light"
     },
     "output_type": "display_data"
    }
   ],
   "source": [
    "x = np.arange(7+1)\n",
    "y = binom_probs(7,0.2)\n",
    "plt.plot(x,y);"
   ]
  },
  {
   "cell_type": "code",
   "execution_count": 14,
   "metadata": {},
   "outputs": [
    {
     "data": {
      "text/plain": [
       "0.6562499999999999"
      ]
     },
     "execution_count": 14,
     "metadata": {},
     "output_type": "execute_result"
    }
   ],
   "source": [
    "binom.cdf(3,6,0.5, loc=0)"
   ]
  },
  {
   "cell_type": "code",
   "execution_count": 15,
   "metadata": {},
   "outputs": [],
   "source": [
    "# 3 is our k\n",
    "# 6 is number of tries\n",
    "# 0.5 is our p\n",
    "# loc is where in the array we start from...verify with docs"
   ]
  },
  {
   "cell_type": "markdown",
   "metadata": {},
   "source": [
    "what this says is the chance of \"at least two offers\" only scenarios are\n",
    "less than 2 (ie 0 or 1 offers). so binom cdf calculates the array of pdf probs for all seven attempts. then it calculates "
   ]
  },
  {
   "cell_type": "code",
   "execution_count": 16,
   "metadata": {},
   "outputs": [
    {
     "ename": "SyntaxError",
     "evalue": "invalid syntax (<ipython-input-16-3f9c63d33fe4>, line 1)",
     "output_type": "error",
     "traceback": [
      "\u001b[0;36m  File \u001b[0;32m\"<ipython-input-16-3f9c63d33fe4>\"\u001b[0;36m, line \u001b[0;32m1\u001b[0m\n\u001b[0;31m    Lesson idea: How to find a probability problem.\u001b[0m\n\u001b[0m              ^\u001b[0m\n\u001b[0;31mSyntaxError\u001b[0m\u001b[0;31m:\u001b[0m invalid syntax\n"
     ]
    }
   ],
   "source": [
    "Lesson idea: How to find a probability problem."
   ]
  }
 ],
 "metadata": {
  "kernelspec": {
   "display_name": "Python 3",
   "language": "python",
   "name": "python3"
  },
  "language_info": {
   "codemirror_mode": {
    "name": "ipython",
    "version": 3
   },
   "file_extension": ".py",
   "mimetype": "text/x-python",
   "name": "python",
   "nbconvert_exporter": "python",
   "pygments_lexer": "ipython3",
   "version": "3.7.3"
  }
 },
 "nbformat": 4,
 "nbformat_minor": 2
}
