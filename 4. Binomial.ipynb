{
 "cells": [
  {
   "cell_type": "code",
   "execution_count": 2,
   "metadata": {},
   "outputs": [],
   "source": [
    "# binomial single \n",
    "# prob of event\n",
    "# binomial summation (tails)"
   ]
  },
  {
   "cell_type": "code",
   "execution_count": 3,
   "metadata": {},
   "outputs": [],
   "source": [
    "# explain what discrete means"
   ]
  },
  {
   "cell_type": "code",
   "execution_count": 8,
   "metadata": {},
   "outputs": [],
   "source": [
    "# basic functions\n",
    "import math\n",
    "from scipy.special import comb\n",
    "from scipy.stats import binom"
   ]
  },
  {
   "cell_type": "code",
   "execution_count": 9,
   "metadata": {},
   "outputs": [],
   "source": [
    "# create visuals and visual style\n",
    "import matplotlib.pyplot as plt\n",
    "import seaborn as sns\n",
    "\n",
    "sns.set(style='white', context='notebook', palette='deep')\n",
    "\n",
    "%matplotlib inline"
   ]
  },
  {
   "cell_type": "markdown",
   "metadata": {},
   "source": [
    "**Scipy** has a module called [scipy.stats](https://docs.scipy.org/doc/scipy/reference/stats.html) that has a binomial distribution function under the header **Discrete Distributions**"
   ]
  },
  {
   "cell_type": "markdown",
   "metadata": {},
   "source": [
    "[Scipy.special](https://docs.scipy.org/doc/scipy/reference/special.html)\n",
    "\n",
    "[Scipy.stats Docs](https://docs.scipy.org/doc/scipy/reference/stats.html) "
   ]
  },
  {
   "cell_type": "code",
   "execution_count": 5,
   "metadata": {},
   "outputs": [
    {
     "name": "stdout",
     "output_type": "stream",
     "text": [
      "0! = 1\n",
      "1! = 1\n",
      "2! = 2\n",
      "3! = 6\n",
      "4! = 24\n",
      "5! = 120\n",
      "6! = 720\n",
      "7! = 5,040\n"
     ]
    }
   ],
   "source": [
    "numbers = [0,1,2,3,4,5,6,7]\n",
    "\n",
    "for item in numbers:\n",
    "    print(f\"{item}! = {math.factorial(item):,}\")"
   ]
  },
  {
   "cell_type": "markdown",
   "metadata": {},
   "source": [
    "On **page 37** of this chapter, we're introduced to **combinatorics** or *\"advanced counting\"*.\n",
    "\n",
    "This is commonly presented in the form ***INSERT LATEX***\n",
    "\n",
    "Which reads \"*n choose k*\". What this expresses is the number of k combinations in n items.In R, this is the choose() function.\n",
    "\n",
    "**Scipy.special** has a similar method called **comb** that does the same thing."
   ]
  },
  {
   "cell_type": "code",
   "execution_count": 6,
   "metadata": {},
   "outputs": [
    {
     "data": {
      "text/plain": [
       "3"
      ]
     },
     "execution_count": 6,
     "metadata": {},
     "output_type": "execute_result"
    }
   ],
   "source": [
    "comb(N=3,k=2,exact=True) # exact=True returns an integer, exact=False float"
   ]
  },
  {
   "cell_type": "markdown",
   "metadata": {},
   "source": [
    "**Scipy.stats** uses [**binom.pmf**](https://docs.scipy.org/doc/scipy/reference/generated/scipy.stats.binom.html#scipy.stats.binom) to calculate the binomial *probability mass function*.\n",
    "\n",
    "On **page 39** is the example:\n",
    "\n",
    "> *We could calculate the probability of flipping exactly 12 heads in 24 coin tosses.*\n",
    "\n",
    "binom.pmf(k,n,p)\n",
    "\n",
    "k = 12\n",
    "n = 24\n",
    "p = 0.5"
   ]
  },
  {
   "cell_type": "code",
   "execution_count": 7,
   "metadata": {},
   "outputs": [
    {
     "data": {
      "text/plain": [
       "0.1612"
      ]
     },
     "execution_count": 7,
     "metadata": {},
     "output_type": "execute_result"
    }
   ],
   "source": [
    "probability = binom.pmf(12,24,0.5)\n",
    "\n",
    "round(probability,4) # round returns an integer to four decimal places"
   ]
  },
  {
   "cell_type": "code",
   "execution_count": 11,
   "metadata": {},
   "outputs": [],
   "source": [
    "nums = list(range(0,24+1))\n",
    "probs = [binom.pmf(n,24,0.5) for n in nums]"
   ]
  },
  {
   "cell_type": "markdown",
   "metadata": {},
   "source": [
    "### Example: Gacha Games\n",
    "\n",
    "> Is the probability of getting a E.T. Jaynes card greater than or equal to 0.5?\n",
    "\n",
    "**ADD LATEX HERE**\n",
    "\n",
    "number of items (n) = 100\n",
    "\n",
    "number of ET Jaynes cards (k) is *greater than or equal to one*\n",
    "\n",
    "random chance of getting ET Jaynes card (p) = 0.720% (not 72.0%!)\n",
    "\n",
    "There are two ways to approach this problem using scipy:\n",
    "1. Use binom.sf \"survival function\"\n",
    "2. Use binom.cdf \"cumulative density function\"\n",
    "\n",
    "We'll use binom.sf first because it is the most similar to the example illustrated in the book. \n",
    "\n",
    "The pmf calculates the probability for a specific number k. But since we are only concerned with getinng *one ET Jaynes card **or more*** we want to calculate a cumulative probability. So whether we get 1 card or 20 is OK. So essentially, what we are doing is calculating the pmf for every number up to 100 and adding all of those together.\n",
    "\n",
    "survival function prob at the random variable is larger (but not) equal to k\n",
    "\n",
    "binom.sf arguments:\n",
    "\n",
    "k = this is one less than minimum card we want (1) so 0.\n",
    "\n",
    "n = number of items (n) or 100\n",
    "\n",
    "p = 0.720% or 0.00720\n",
    "\n",
    "what does loc argument mean?"
   ]
  },
  {
   "cell_type": "code",
   "execution_count": 48,
   "metadata": {},
   "outputs": [
    {
     "data": {
      "text/plain": [
       "'0.51451 >= 0.5'"
      ]
     },
     "execution_count": 48,
     "metadata": {},
     "output_type": "execute_result"
    }
   ],
   "source": [
    "result = binom.sf(0,100,0.00720)\n",
    "\n",
    "f'{result:.5f} >= 0.5'"
   ]
  },
  {
   "cell_type": "markdown",
   "metadata": {},
   "source": [
    "Since 51.4% is greater than 50.0%, buy the cards"
   ]
  },
  {
   "cell_type": "markdown",
   "metadata": {},
   "source": [
    "The other way to go about this is to use binom.cdf\n",
    "\n",
    "What binom.cdf essentially says is we are looking for *the cumulative density up to a number*'. In this case that number is zero because if we get one, we're happy.\n",
    "\n",
    "The difference is that in this method, we're calculating the amount below our number (1) which is that chance we won't get one card.\n",
    "\n",
    "So we have to subtract this from 1 to get the 0.51451 answer."
   ]
  },
  {
   "cell_type": "code",
   "execution_count": 49,
   "metadata": {},
   "outputs": [
    {
     "data": {
      "text/plain": [
       "0.16242880152251793"
      ]
     },
     "execution_count": 49,
     "metadata": {},
     "output_type": "execute_result"
    }
   ],
   "source": [
    "1- binom.cdf(1,100,0.0072)"
   ]
  },
  {
   "cell_type": "markdown",
   "metadata": {},
   "source": [
    "Bonus example: What are the chances of getting at least two ET Jaynes cards?"
   ]
  },
  {
   "cell_type": "code",
   "execution_count": 50,
   "metadata": {},
   "outputs": [
    {
     "name": "stdout",
     "output_type": "stream",
     "text": [
      "sf approach: 0.16243\n",
      "cdf approach: 0.16243\n"
     ]
    }
   ],
   "source": [
    "sf_chance = binom.sf(1,100,0.0072)\n",
    "cdf_chance = 1 - binom.cdf(1,100,0.0072)\n",
    "print(f'sf approach: {sf_chance:.5f}')\n",
    "print(f'cdf approach: {cdf_chance:.5f}')"
   ]
  },
  {
   "cell_type": "markdown",
   "metadata": {},
   "source": [
    "### Summary of Python used:\n",
    "\n",
    "combinations: comb(N,k,exact=True)\n",
    "\n",
    "binomial probability mass function: binom.pmf(k,n,p)\n",
    "\n",
    "binomial survival function: binom.sf(k,n,p)\n",
    "\n",
    "binomial cumulative density function: binom.cdf(k,n,p)"
   ]
  },
  {
   "cell_type": "markdown",
   "metadata": {},
   "source": [
    "### Questions"
   ]
  },
  {
   "cell_type": "code",
   "execution_count": 93,
   "metadata": {},
   "outputs": [],
   "source": [
    "def binom_probs(n,p):\n",
    "    seq = [n for n in range(0,n+1)]\n",
    "    return [binom.pmf(s,n,p) for s in seq]"
   ]
  },
  {
   "cell_type": "code",
   "execution_count": 95,
   "metadata": {},
   "outputs": [
    {
     "data": {
      "text/plain": [
       "[0.20971519999999993,\n",
       " 0.36700160000000004,\n",
       " 0.27525120000000014,\n",
       " 0.11468800000000005,\n",
       " 0.028672000000000024,\n",
       " 0.004300800000000003,\n",
       " 0.0003584000000000004,\n",
       " 1.28e-05]"
      ]
     },
     "execution_count": 95,
     "metadata": {},
     "output_type": "execute_result"
    }
   ],
   "source": [
    "tt = binom_probs(7,0.2);\n",
    "tt"
   ]
  },
  {
   "cell_type": "code",
   "execution_count": 85,
   "metadata": {},
   "outputs": [
    {
     "data": {
      "text/plain": [
       "0.6562499999999999"
      ]
     },
     "execution_count": 85,
     "metadata": {},
     "output_type": "execute_result"
    }
   ],
   "source": [
    "binom.cdf(3,6,0.5, loc=0)"
   ]
  },
  {
   "cell_type": "code",
   "execution_count": null,
   "metadata": {},
   "outputs": [],
   "source": [
    "# 3 is our k\n",
    "# 6 is number of tries\n",
    "# 0.5 is our p\n",
    "# loc is where in the array we start from...verify with docs"
   ]
  },
  {
   "cell_type": "markdown",
   "metadata": {},
   "source": [
    "what this says is the chance of \"at least two offers\" only scenarios are\n",
    "less than 2 (ie 0 or 1 offers). so binom cdf calculates the array of pdf probs for all seven attempts. then it calculates "
   ]
  },
  {
   "cell_type": "code",
   "execution_count": null,
   "metadata": {},
   "outputs": [],
   "source": [
    "Lesson idea: How to find a probability problem."
   ]
  }
 ],
 "metadata": {
  "kernelspec": {
   "display_name": "Python 3",
   "language": "python",
   "name": "python3"
  },
  "language_info": {
   "codemirror_mode": {
    "name": "ipython",
    "version": 3
   },
   "file_extension": ".py",
   "mimetype": "text/x-python",
   "name": "python",
   "nbconvert_exporter": "python",
   "pygments_lexer": "ipython3",
   "version": "3.6.9"
  }
 },
 "nbformat": 4,
 "nbformat_minor": 2
}
