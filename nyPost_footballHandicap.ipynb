{
 "cells": [
  {
   "cell_type": "code",
   "execution_count": 13,
   "metadata": {},
   "outputs": [],
   "source": [
    "from scipy.stats import beta"
   ]
  },
  {
   "cell_type": "code",
   "execution_count": 14,
   "metadata": {},
   "outputs": [],
   "source": [
    "def beta_interval(alpha_ev,beta_ev,alpha_prior=1,beta_prior=1,lower_bound=0.025,upper_bound=0.975):\n",
    "    alpha_comb = alpha_ev + alpha_prior\n",
    "    beta_comb = beta_ev + beta_prior\n",
    "    interval = beta.ppf([lower_bound,upper_bound],a=alpha_comb,b=beta_comb)\n",
    "    return interval[0],interval[1]"
   ]
  },
  {
   "cell_type": "code",
   "execution_count": 15,
   "metadata": {},
   "outputs": [],
   "source": [
    "# total wins, total losses, total ties, best_bet_wins, best_bet_losses,best_bet_ties\n",
    "handicapper = {'Lewis':[29,19,2,3,4,2], \n",
    "               'Holmlund':[26,22,2,4,5,0],\n",
    "               'Hale':[25,23,2,3,6,0],\n",
    "               'Kussoy':[25,23,2,6,3,0],\n",
    "               'Shaw':[24,24,2,6,3,0],\n",
    "               'Stitches':[22,26,2,3,4,2],\n",
    "               'Terranova':[22,26,2,3,5,1],\n",
    "               'Braziller':[21,27,2,6,3,0],\n",
    "              }"
   ]
  },
  {
   "cell_type": "code",
   "execution_count": 16,
   "metadata": {},
   "outputs": [],
   "source": [
    "hale = handicapper['Hale']"
   ]
  },
  {
   "cell_type": "code",
   "execution_count": 17,
   "metadata": {},
   "outputs": [],
   "source": [
    "prior_wins = hale[0] - hale[3]\n",
    "prior_losses = hale[1] - hale[4]"
   ]
  },
  {
   "cell_type": "code",
   "execution_count": 18,
   "metadata": {},
   "outputs": [
    {
     "data": {
      "text/plain": [
       "(0.3807778897918693, 0.6592430351651022)"
      ]
     },
     "execution_count": 18,
     "metadata": {},
     "output_type": "execute_result"
    }
   ],
   "source": [
    "beta_interval(3,6,prior_wins,prior_losses)"
   ]
  },
  {
   "cell_type": "code",
   "execution_count": 26,
   "metadata": {},
   "outputs": [],
   "source": [
    "def win_percent(handi,dictionary):\n",
    "    handicapper = dictionary[handi]\n",
    "    prior_wins = handicapper[0] - handicapper[3]\n",
    "    prior_loss = handicapper[1] - handicapper[4]\n",
    "    best_wins = handicapper[3]\n",
    "    best_losses = handicapper[4]\n",
    "    \n",
    "    return beta_interval(best_wins,best_losses,prior_wins,prior_loss)"
   ]
  },
  {
   "cell_type": "code",
   "execution_count": 27,
   "metadata": {},
   "outputs": [
    {
     "data": {
      "text/plain": [
       "(0.3606447033847416, 0.6393552966152583)"
      ]
     },
     "execution_count": 27,
     "metadata": {},
     "output_type": "execute_result"
    }
   ],
   "source": [
    "win_percent('Shaw',handicapper)"
   ]
  },
  {
   "cell_type": "code",
   "execution_count": 29,
   "metadata": {},
   "outputs": [
    {
     "name": "stdout",
     "output_type": "stream",
     "text": [
      "Lewis: (0.4637993828916383, 0.7363075518749524)\n",
      "Holmlund: (0.4011572295653572, 0.6788847314842605)\n",
      "Hale: (0.3807778897918693, 0.6592430351651022)\n",
      "Kussoy: (0.3807778897918693, 0.6592430351651022)\n",
      "Shaw: (0.3606447033847416, 0.6393552966152583)\n",
      "Stitches: (0.32111526851573946, 0.5988427704346428)\n",
      "Terranova: (0.32111526851573946, 0.5988427704346428)\n",
      "Braziller: (0.3017215239760005, 0.5782152525753803)\n"
     ]
    }
   ],
   "source": [
    "for k in handicapper:\n",
    "    print(f\"{k}: {win_percent(k,handicapper)}\")"
   ]
  },
  {
   "cell_type": "code",
   "execution_count": 43,
   "metadata": {},
   "outputs": [
    {
     "data": {
      "text/plain": [
       "(0.45264777600627626, 0.6585411743083147)"
      ]
     },
     "execution_count": 43,
     "metadata": {},
     "output_type": "execute_result"
    }
   ],
   "source": [
    "beta_interval(29,19,20,20)"
   ]
  },
  {
   "cell_type": "code",
   "execution_count": 56,
   "metadata": {},
   "outputs": [
    {
     "data": {
      "text/plain": [
       "(0.4728438952517952, 0.6472284477198909)"
      ]
     },
     "execution_count": 56,
     "metadata": {},
     "output_type": "execute_result"
    }
   ],
   "source": [
    "beta_interval(29+20,19+15,20,20)"
   ]
  },
  {
   "cell_type": "code",
   "execution_count": 55,
   "metadata": {},
   "outputs": [
    {
     "data": {
      "text/plain": [
       "5.714285714285714"
      ]
     },
     "execution_count": 55,
     "metadata": {},
     "output_type": "execute_result"
    }
   ],
   "source": [
    "40/7"
   ]
  },
  {
   "cell_type": "code",
   "execution_count": null,
   "metadata": {},
   "outputs": [],
   "source": []
  }
 ],
 "metadata": {
  "kernelspec": {
   "display_name": "Python 3",
   "language": "python",
   "name": "python3"
  },
  "language_info": {
   "codemirror_mode": {
    "name": "ipython",
    "version": 3
   },
   "file_extension": ".py",
   "mimetype": "text/x-python",
   "name": "python",
   "nbconvert_exporter": "python",
   "pygments_lexer": "ipython3",
   "version": "3.7.3"
  }
 },
 "nbformat": 4,
 "nbformat_minor": 2
}
