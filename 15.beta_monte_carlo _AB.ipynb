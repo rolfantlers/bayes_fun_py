{
 "cells": [
  {
   "cell_type": "code",
   "execution_count": 16,
   "metadata": {},
   "outputs": [],
   "source": [
    "import numpy as np\n",
    "from scipy.stats import beta"
   ]
  },
  {
   "cell_type": "code",
   "execution_count": 17,
   "metadata": {},
   "outputs": [],
   "source": [
    "trials = 100000\n",
    "prior = (3,7)\n",
    "\n",
    "a1,b1 = (36,114)\n",
    "a2,b2 = (50,100)"
   ]
  },
  {
   "cell_type": "code",
   "execution_count": 18,
   "metadata": {},
   "outputs": [
    {
     "data": {
      "text/plain": [
       "(0.24, 0.3333333333333333)"
      ]
     },
     "execution_count": 18,
     "metadata": {},
     "output_type": "execute_result"
    }
   ],
   "source": [
    "a1/(a1+b1), a2/(a2+b2)"
   ]
  },
  {
   "cell_type": "code",
   "execution_count": 4,
   "metadata": {},
   "outputs": [],
   "source": [
    "# a,b and priors must not be negative\n",
    "# need to add overlapping charts here\n",
    "\n",
    "def bayes_monte_carlo_beta(a,b,prior=(1,1),trials=10000):\n",
    "    a += prior[0]\n",
    "    b += prior[1]\n",
    "    return beta.rvs(a,b,size=trials)"
   ]
  },
  {
   "cell_type": "code",
   "execution_count": 5,
   "metadata": {},
   "outputs": [],
   "source": [
    "first = bayes_monte_carlo_beta(a1,b1,prior=prior,trials=trials)\n",
    "second = bayes_monte_carlo_beta(a2,b2,prior=prior,trials=trials)"
   ]
  },
  {
   "cell_type": "code",
   "execution_count": 6,
   "metadata": {},
   "outputs": [],
   "source": [
    "# this needs a better name\n",
    "\n",
    "def compare_sims(first,second):\n",
    "    sims = list(zip(first,second))\n",
    "    size = len(sims)\n",
    "    n = 0\n",
    "    \n",
    "    for s in sims:\n",
    "        if s[0] > s[1]:\n",
    "            n += 1\n",
    "    return n/size, 1 - n/size"
   ]
  },
  {
   "cell_type": "code",
   "execution_count": 7,
   "metadata": {},
   "outputs": [],
   "source": [
    "# how to add a flag that can return means of arrays?\n",
    "\n",
    "def compare_sim_ratios(first,second):\n",
    "    sims = list(zip(first,second))\n",
    "    \n",
    "    first_ratio = []\n",
    "    second_ratio = []\n",
    "    \n",
    "    for s in sims:\n",
    "        if s[0] > s[1]:\n",
    "            first_ratio.append(s[0]/s[1])\n",
    "        else:\n",
    "            second_ratio.append(s[1]/s[0])\n",
    "            \n",
    "    return first_ratio,second_ratio"
   ]
  },
  {
   "cell_type": "code",
   "execution_count": 8,
   "metadata": {},
   "outputs": [
    {
     "data": {
      "text/plain": [
       "(0.04001, 0.95999)"
      ]
     },
     "execution_count": 8,
     "metadata": {},
     "output_type": "execute_result"
    }
   ],
   "source": [
    "compare_sims(first,second)"
   ]
  },
  {
   "cell_type": "code",
   "execution_count": 9,
   "metadata": {},
   "outputs": [
    {
     "data": {
      "text/plain": [
       "(1.0782829284730742, 1.4054731576707205)"
      ]
     },
     "execution_count": 9,
     "metadata": {},
     "output_type": "execute_result"
    }
   ],
   "source": [
    "ratios = compare_sim_ratios(first,second)\n",
    "np.mean(ratios[0]), np.mean(ratios[1])"
   ]
  },
  {
   "cell_type": "markdown",
   "metadata": {},
   "source": [
    "*`1. Suppose a director of marketing with many years of experience tells you he believes very strongly that the variant with images (B) won't perform any differently than the original variant. How could you account for this in our model? Implement this change as well.`*"
   ]
  },
  {
   "cell_type": "markdown",
   "metadata": {},
   "source": [
    "The director of marketing has a strong opinion and given his seniority, we wil assume that he also has many years of professional experience. This is a dangerous assumption, but whatever. \n",
    "\n",
    "Due to his opinion and experience, we could add a strong prior to our simulations. "
   ]
  },
  {
   "cell_type": "code",
   "execution_count": 10,
   "metadata": {},
   "outputs": [],
   "source": [
    "trials = 100000\n",
    "dom_prior = (300,700) # director of marketing strong prior"
   ]
  },
  {
   "cell_type": "code",
   "execution_count": 11,
   "metadata": {},
   "outputs": [],
   "source": [
    "dom_first = bayes_monte_carlo_beta(a1,b1,prior=dom_prior,trials=trials)\n",
    "dom_second = bayes_monte_carlo_beta(a2,b2,prior=dom_prior,trials=trials)"
   ]
  },
  {
   "cell_type": "code",
   "execution_count": 12,
   "metadata": {},
   "outputs": [
    {
     "data": {
      "text/plain": [
       "(0.26309, 0.73691)"
      ]
     },
     "execution_count": 12,
     "metadata": {},
     "output_type": "execute_result"
    }
   ],
   "source": [
    "compare_sims(dom_first,dom_second)"
   ]
  },
  {
   "cell_type": "code",
   "execution_count": 13,
   "metadata": {},
   "outputs": [
    {
     "data": {
      "text/plain": [
       "(1.0400226925871907, 1.0727605498841084)"
      ]
     },
     "execution_count": 13,
     "metadata": {},
     "output_type": "execute_result"
    }
   ],
   "source": [
    "dom_ratios = compare_sim_ratios(dom_first,dom_second)\n",
    "np.mean(dom_ratios[0]), np.mean(dom_ratios[1])"
   ]
  },
  {
   "cell_type": "markdown",
   "metadata": {},
   "source": [
    "The strong prior changes our opinion. Instead of being 95% certain, we are about 74% certain which is the same chances of flipping not flipping tails twice in a row. Also, the relative advantage of both hypotheses under the best circumstances are still pretty close."
   ]
  },
  {
   "cell_type": "markdown",
   "metadata": {},
   "source": [
    "*`2. The lead designer see your results and insists that there's now way that variant B should perform better with not images. She feels that you should assume the conversion rate for B is closer to 20 percent than 30 percent. Implement a solution for this and again review the results. of our analysis`*"
   ]
  },
  {
   "cell_type": "markdown",
   "metadata": {},
   "source": [
    "Moderate prior because lead designer is less senior and position does not have as much breadth?"
   ]
  },
  {
   "cell_type": "code",
   "execution_count": 14,
   "metadata": {},
   "outputs": [],
   "source": [
    "trials = 100000\n",
    "ld_prior1 = (30,70) # lead designer A\n",
    "ld_prior2 = (20,80) # lead designer B"
   ]
  },
  {
   "cell_type": "code",
   "execution_count": 15,
   "metadata": {},
   "outputs": [
    {
     "data": {
      "text/plain": [
       "(0.34454, 0.6554599999999999)"
      ]
     },
     "execution_count": 15,
     "metadata": {},
     "output_type": "execute_result"
    }
   ],
   "source": [
    "ld_first = bayes_monte_carlo_beta(a1,b1,prior=ld_prior1,trials=trials)\n",
    "ld_second = bayes_monte_carlo_beta(a2,b2,prior=ld_prior2,trials=trials)\n",
    "\n",
    "compare_sims(ld_first,ld_second)"
   ]
  },
  {
   "cell_type": "markdown",
   "metadata": {},
   "source": [
    "*`3. If true rate A 25% and B 35% how much convince dir marketing? `*"
   ]
  },
  {
   "cell_type": "code",
   "execution_count": 44,
   "metadata": {},
   "outputs": [],
   "source": [
    "# create a while loop to find approximate number of trials for a certain level of belief"
   ]
  },
  {
   "cell_type": "code",
   "execution_count": 41,
   "metadata": {},
   "outputs": [],
   "source": [
    "trials = 100000\n",
    "dom_prior = (300,700) # director of marketing strong prior\n",
    "\n",
    "a3,b3 = (300,900)\n",
    "a4,b4 = (360,840)"
   ]
  },
  {
   "cell_type": "code",
   "execution_count": 42,
   "metadata": {},
   "outputs": [
    {
     "data": {
      "text/plain": [
       "(0.02241, 0.97759)"
      ]
     },
     "execution_count": 42,
     "metadata": {},
     "output_type": "execute_result"
    }
   ],
   "source": [
    "dom2_first = bayes_monte_carlo_beta(a3,b3,prior=dom_prior,trials=trials)\n",
    "dom2_second = bayes_monte_carlo_beta(a4,b4,prior=dom_prior,trials=trials)\n",
    "\n",
    "compare_sims(dom2_first,dom2_second)"
   ]
  },
  {
   "cell_type": "code",
   "execution_count": 43,
   "metadata": {},
   "outputs": [
    {
     "data": {
      "text/plain": [
       "1200"
      ]
     },
     "execution_count": 43,
     "metadata": {},
     "output_type": "execute_result"
    }
   ],
   "source": [
    "a4 + b4"
   ]
  },
  {
   "cell_type": "code",
   "execution_count": 32,
   "metadata": {},
   "outputs": [],
   "source": [
    "trials = 100000\n",
    "ld_prior1A = (30,70) # lead designer A\n",
    "ld_prior2B = (20,80) # lead designer B\n",
    "\n",
    "a5,b5 = (250,750)\n",
    "a6,b6 = (300,700)"
   ]
  },
  {
   "cell_type": "code",
   "execution_count": 33,
   "metadata": {},
   "outputs": [
    {
     "data": {
      "text/plain": [
       "(0.03981, 0.96019)"
      ]
     },
     "execution_count": 33,
     "metadata": {},
     "output_type": "execute_result"
    }
   ],
   "source": [
    "ld2_first = bayes_monte_carlo_beta(a5,b5,prior=ld_prior1A,trials=trials)\n",
    "ld2_second = bayes_monte_carlo_beta(a6,b6,prior=ld_prior2B,trials=trials)\n",
    "\n",
    "compare_sims(dom2_first,dom2_second)"
   ]
  },
  {
   "cell_type": "code",
   "execution_count": null,
   "metadata": {},
   "outputs": [],
   "source": []
  }
 ],
 "metadata": {
  "kernelspec": {
   "display_name": "Python 3",
   "language": "python",
   "name": "python3"
  },
  "language_info": {
   "codemirror_mode": {
    "name": "ipython",
    "version": 3
   },
   "file_extension": ".py",
   "mimetype": "text/x-python",
   "name": "python",
   "nbconvert_exporter": "python",
   "pygments_lexer": "ipython3",
   "version": "3.7.3"
  }
 },
 "nbformat": 4,
 "nbformat_minor": 2
}
