{
 "cells": [
  {
   "cell_type": "code",
   "execution_count": 1,
   "metadata": {},
   "outputs": [],
   "source": [
    "import numpy as np\n",
    "from scipy.stats import beta"
   ]
  },
  {
   "cell_type": "code",
   "execution_count": 2,
   "metadata": {},
   "outputs": [],
   "source": [
    "trials = 100000\n",
    "prior = (40,60)\n",
    "\n",
    "a1,b1 = (0,3)\n",
    "a2,b2 = (1,4)"
   ]
  },
  {
   "cell_type": "code",
   "execution_count": 3,
   "metadata": {},
   "outputs": [],
   "source": [
    "# a,b and priors must not be negative\n",
    "# need to add overlapping charts here\n",
    "\n",
    "def bayes_monte_carlo_beta(a,b,prior=(1,1),trials=10000):\n",
    "    a += prior[0]\n",
    "    b += prior[1]\n",
    "    return beta.rvs(a,b,size=trials)"
   ]
  },
  {
   "cell_type": "code",
   "execution_count": 4,
   "metadata": {},
   "outputs": [],
   "source": [
    "first = bayes_monte_carlo_beta(a1,b1,prior=prior,trials=trials)\n",
    "second = bayes_monte_carlo_beta(a2,b2,prior=prior,trials=trials)"
   ]
  },
  {
   "cell_type": "code",
   "execution_count": 5,
   "metadata": {},
   "outputs": [],
   "source": [
    "# this needs a better name\n",
    "\n",
    "def compare_sims(first,second):\n",
    "    sims = list(zip(first,second))\n",
    "    size = len(sims)\n",
    "    n = 0\n",
    "    \n",
    "    for s in sims:\n",
    "        if s[0] > s[1]:\n",
    "            n += 1\n",
    "    return n/size, 1 - n/size"
   ]
  },
  {
   "cell_type": "code",
   "execution_count": 6,
   "metadata": {},
   "outputs": [
    {
     "data": {
      "text/plain": [
       "(0.48789, 0.5121100000000001)"
      ]
     },
     "execution_count": 6,
     "metadata": {},
     "output_type": "execute_result"
    }
   ],
   "source": [
    "compare_sims(first,second)"
   ]
  },
  {
   "cell_type": "code",
   "execution_count": 7,
   "metadata": {},
   "outputs": [],
   "source": [
    "# how to add a flag that can return means of arrays?\n",
    "\n",
    "def compare_sim_ratios(first,second):\n",
    "    sims = list(zip(first,second))\n",
    "    \n",
    "    first_ratio = []\n",
    "    second_ratio = []\n",
    "    \n",
    "    for s in sims:\n",
    "        if s[0] > s[1]:\n",
    "            first_ratio.append(s[0]/s[1])\n",
    "        else:\n",
    "            second_ratio.append(s[1]/s[0])\n",
    "            \n",
    "    return first_ratio,second_ratio"
   ]
  },
  {
   "cell_type": "code",
   "execution_count": 8,
   "metadata": {},
   "outputs": [],
   "source": [
    "from scipy.stats import binom"
   ]
  },
  {
   "cell_type": "code",
   "execution_count": 9,
   "metadata": {},
   "outputs": [
    {
     "data": {
      "text/plain": [
       "array([0.27624763, 0.51978776])"
      ]
     },
     "execution_count": 9,
     "metadata": {},
     "output_type": "execute_result"
    }
   ],
   "source": [
    "beta.ppf([0.005,0.995],a=41,b=63)"
   ]
  },
  {
   "cell_type": "code",
   "execution_count": 10,
   "metadata": {},
   "outputs": [
    {
     "data": {
      "text/plain": [
       "(0.379503424, 0.11128464099999995)"
      ]
     },
     "execution_count": 10,
     "metadata": {},
     "output_type": "execute_result"
    }
   ],
   "source": [
    "low = binom.pmf(0,3,0.276)\n",
    "high = binom.pmf(0,3,0.519)\n",
    "low,high"
   ]
  },
  {
   "cell_type": "markdown",
   "metadata": {},
   "source": [
    "*`1. Returning to the dice problem, assume that your friend made a mistake and suddenly realized that there were, in fact, two loaded dice and only one fair die. How does this change the prior, and therefore the posterior odds, for our dice problem? Are you more willing to believe that the die being rolled is the loaded die?`*"
   ]
  },
  {
   "cell_type": "markdown",
   "metadata": {},
   "source": [
    "`Suppose your friend has a bag with three six-sided dice in it, and one die is weighted so that it lands on 6 half the time. The other two are traditional dice whose probability of rolling a 6 is 1/6. Your friend pulls out a die and rolls 10 times, with the following results:`**`Rolls = (6,1,3,6,4,5,6,1,2,6)`**\n",
    "\n",
    "P(D|H1) = \"Die Loaded\"\n",
    "\n",
    "P(D|H2) = \"Die Fair\"\n",
    "\n",
    "Total Dice = 3\n",
    "\n",
    "num_loaded = 2/3\n",
    "\n",
    "num_fair = 1/3"
   ]
  },
  {
   "cell_type": "code",
   "execution_count": 13,
   "metadata": {},
   "outputs": [],
   "source": [
    "rolls = (6,1,3,6,4,5,6,1,2,6)"
   ]
  },
  {
   "cell_type": "code",
   "execution_count": 14,
   "metadata": {},
   "outputs": [],
   "source": [
    "def bayes_factor(h1,h2):\n",
    "    return h1/h2"
   ]
  },
  {
   "cell_type": "code",
   "execution_count": 15,
   "metadata": {},
   "outputs": [
    {
     "name": "stdout",
     "output_type": "stream",
     "text": [
      "Prior: 2.0 Bayes Factor 3.779\n",
      "The die is 7.558 more likely loaded than fair.\n"
     ]
    }
   ],
   "source": [
    "loaded = (1/2)**4 * (1/2)**6\n",
    "fair = (1/6)**4 * (5/6)**6\n",
    "bf = bayes_factor(loaded,fair)\n",
    "prior =  (2/3)/(1/3)\n",
    "\n",
    "print(f'Prior: {prior} Bayes Factor {bf:.3f}')\n",
    "print(f'The die is {prior*bf:.3f} more likely loaded than fair.')"
   ]
  },
  {
   "cell_type": "markdown",
   "metadata": {},
   "source": [
    "The posterior odds of 7.6 aren't super strong according to the book, but on pg 160 it also suggests anything between 3 and 20 'might be on to something'."
   ]
  },
  {
   "cell_type": "code",
   "execution_count": 17,
   "metadata": {},
   "outputs": [
    {
     "data": {
      "text/plain": [
       "0.8831502687543819"
      ]
     },
     "execution_count": 17,
     "metadata": {},
     "output_type": "execute_result"
    }
   ],
   "source": [
    "1 - 1/(1+7.558)"
   ]
  },
  {
   "cell_type": "markdown",
   "metadata": {},
   "source": [
    "The strong prior changes our opinion. Instead of being 95% certain, we are about 74% certain which is the same chances of flipping not flipping tails twice in a row. Also, the relative advantage of both hypotheses under the best circumstances are still pretty close."
   ]
  },
  {
   "cell_type": "markdown",
   "metadata": {},
   "source": [
    "*`2. Returning to the rare diseases example, suppose you go to the doctor, and after having your ears cleaned you notice that your symptoms persist. Even worse, you have a new symptom: vertigo. The doctor proposes another possible explanation, labyrinthitis, which is a viral infection of the inner ear in which 98 percent of cases involve vertigo. However, hearing loss and tinnitus are less common in this disease; hearing loss occurs only 30 percent of the time, and tinnitus occurs only 28 percent of the time. Vertigo is also a possible symptom of vestibular schwanoma, but occurs in only 49 percent of cases. In the general population, 35 people per million contract labyrinthiis annually. What is the posterior odds when you compare the hypothesis that you have labyrinthtis against the hypothesis that you have schwanoma?`*"
   ]
  },
  {
   "cell_type": "markdown",
   "metadata": {},
   "source": [
    "H1 = \"has labyrinthitis\"\n",
    "\n",
    "H2 = \"has vs\""
   ]
  },
  {
   "cell_type": "code",
   "execution_count": 18,
   "metadata": {},
   "outputs": [],
   "source": [
    "lab_vertigo = 0.98\n",
    "lab_hearing_loss = 0.30\n",
    "lab_tin = 0.28\n",
    "lab_rate = 35/1000000"
   ]
  },
  {
   "cell_type": "markdown",
   "metadata": {},
   "source": [
    "P(D|H1)  = \"How likely is the data, given this hypothesis\""
   ]
  },
  {
   "cell_type": "code",
   "execution_count": 19,
   "metadata": {},
   "outputs": [
    {
     "data": {
      "text/plain": [
       "0.08232"
      ]
     },
     "execution_count": 19,
     "metadata": {},
     "output_type": "execute_result"
    }
   ],
   "source": [
    "lab = lab_vertigo * lab_hearing_loss * lab_tin\n",
    "lab"
   ]
  },
  {
   "cell_type": "code",
   "execution_count": 20,
   "metadata": {},
   "outputs": [],
   "source": [
    "# did he use the earwax values here??\n",
    "vs_vertigo = 0.49\n",
    "vs_hearing_loss = 0.94\n",
    "vs_tin = 0.83\n",
    "vs_rate = 11/1000000"
   ]
  },
  {
   "cell_type": "code",
   "execution_count": 21,
   "metadata": {},
   "outputs": [
    {
     "data": {
      "text/plain": [
       "0.3822979999999999"
      ]
     },
     "execution_count": 21,
     "metadata": {},
     "output_type": "execute_result"
    }
   ],
   "source": [
    "vs = vs_vertigo * vs_hearing_loss * vs_tin\n",
    "vs"
   ]
  },
  {
   "cell_type": "code",
   "execution_count": 22,
   "metadata": {},
   "outputs": [
    {
     "data": {
      "text/plain": [
       "3.1818181818181817"
      ]
     },
     "execution_count": 22,
     "metadata": {},
     "output_type": "execute_result"
    }
   ],
   "source": [
    "bf2 = bayes_factor(lab_rate,vs_rate)\n",
    "bf2"
   ]
  },
  {
   "cell_type": "code",
   "execution_count": 23,
   "metadata": {},
   "outputs": [
    {
     "data": {
      "text/plain": [
       "0.21532940271725204"
      ]
     },
     "execution_count": 23,
     "metadata": {},
     "output_type": "execute_result"
    }
   ],
   "source": [
    "lab/vs"
   ]
  },
  {
   "cell_type": "code",
   "execution_count": 24,
   "metadata": {},
   "outputs": [
    {
     "data": {
      "text/plain": [
       "0.6851390086458019"
      ]
     },
     "execution_count": 24,
     "metadata": {},
     "output_type": "execute_result"
    }
   ],
   "source": [
    "(lab_rate/vs_rate) * lab/vs"
   ]
  }
 ],
 "metadata": {
  "kernelspec": {
   "display_name": "Python 3",
   "language": "python",
   "name": "python3"
  },
  "language_info": {
   "codemirror_mode": {
    "name": "ipython",
    "version": 3
   },
   "file_extension": ".py",
   "mimetype": "text/x-python",
   "name": "python",
   "nbconvert_exporter": "python",
   "pygments_lexer": "ipython3",
   "version": "3.7.3"
  }
 },
 "nbformat": 4,
 "nbformat_minor": 2
}
