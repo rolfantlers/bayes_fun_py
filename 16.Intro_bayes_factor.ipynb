{
 "cells": [
  {
   "cell_type": "code",
   "execution_count": 1,
   "metadata": {},
   "outputs": [],
   "source": [
    "import numpy as np\n",
    "from scipy.stats import beta"
   ]
  },
  {
   "cell_type": "code",
   "execution_count": 17,
   "metadata": {},
   "outputs": [],
   "source": [
    "trials = 100000\n",
    "prior = (3,7)\n",
    "\n",
    "a1,b1 = (36,114)\n",
    "a2,b2 = (50,100)"
   ]
  },
  {
   "cell_type": "code",
   "execution_count": 4,
   "metadata": {},
   "outputs": [],
   "source": [
    "# a,b and priors must not be negative\n",
    "# need to add overlapping charts here\n",
    "\n",
    "def bayes_monte_carlo_beta(a,b,prior=(1,1),trials=10000):\n",
    "    a += prior[0]\n",
    "    b += prior[1]\n",
    "    return beta.rvs(a,b,size=trials)"
   ]
  },
  {
   "cell_type": "code",
   "execution_count": 5,
   "metadata": {},
   "outputs": [],
   "source": [
    "first = bayes_monte_carlo_beta(a1,b1,prior=prior,trials=trials)\n",
    "second = bayes_monte_carlo_beta(a2,b2,prior=prior,trials=trials)"
   ]
  },
  {
   "cell_type": "code",
   "execution_count": 6,
   "metadata": {},
   "outputs": [],
   "source": [
    "# this needs a better name\n",
    "\n",
    "def compare_sims(first,second):\n",
    "    sims = list(zip(first,second))\n",
    "    size = len(sims)\n",
    "    n = 0\n",
    "    \n",
    "    for s in sims:\n",
    "        if s[0] > s[1]:\n",
    "            n += 1\n",
    "    return n/size, 1 - n/size"
   ]
  },
  {
   "cell_type": "code",
   "execution_count": 7,
   "metadata": {},
   "outputs": [],
   "source": [
    "# how to add a flag that can return means of arrays?\n",
    "\n",
    "def compare_sim_ratios(first,second):\n",
    "    sims = list(zip(first,second))\n",
    "    \n",
    "    first_ratio = []\n",
    "    second_ratio = []\n",
    "    \n",
    "    for s in sims:\n",
    "        if s[0] > s[1]:\n",
    "            first_ratio.append(s[0]/s[1])\n",
    "        else:\n",
    "            second_ratio.append(s[1]/s[0])\n",
    "            \n",
    "    return first_ratio,second_ratio"
   ]
  },
  {
   "cell_type": "markdown",
   "metadata": {},
   "source": [
    "*`1. Returning to the dice problem, assume that your friend made a mistake and suddenly realized that there were, in fact, two loaded dice and only one fair die. How does this change the prior, and therefore the posterior odds, for our dice problem? Are you more willing to believe that the die being rolled is the loaded die?`*"
   ]
  },
  {
   "cell_type": "markdown",
   "metadata": {},
   "source": [
    "`Suppose your friend has a bag with three six-sided dice in it, and one die is weighted so that it lands on 6 half the time. The other two are traditional dice whose probability of rolling a 6 is 1/6. Your friend pulls out a die and rolls 10 times, with the following results:`**`Rolls = (6,1,3,6,4,5,6,1,2,6)`**\n",
    "\n",
    "P(D|H1) = \"Die Loaded\"\n",
    "\n",
    "P(D|H2) = \"Die Fair\"\n",
    "\n",
    "Total Dice = 3\n",
    "\n",
    "num_loaded = 2/3\n",
    "\n",
    "num_fair = 1/3"
   ]
  },
  {
   "cell_type": "code",
   "execution_count": 2,
   "metadata": {},
   "outputs": [],
   "source": [
    "rolls = (6,1,3,6,4,5,6,1,2,6)"
   ]
  },
  {
   "cell_type": "code",
   "execution_count": 8,
   "metadata": {},
   "outputs": [],
   "source": [
    "def bayes_factor(h1,h2):\n",
    "    return h1/h2"
   ]
  },
  {
   "cell_type": "code",
   "execution_count": 22,
   "metadata": {},
   "outputs": [
    {
     "name": "stdout",
     "output_type": "stream",
     "text": [
      "Prior: 2.0 Bayes Factor 3.779\n",
      "The die is 7.558 more likely loaded than fair.\n"
     ]
    }
   ],
   "source": [
    "loaded = (1/2)**4 * (1/2)**6\n",
    "fair = (1/6)**4 * (5/6)**6\n",
    "bf = bayes_factor(loaded,fair)\n",
    "prior =  (2/3)/(1/3)\n",
    "\n",
    "print(f'Prior: {prior} Bayes Factor {bf:.3f}')\n",
    "print(f'The die is {prior*bf:.3f} more likely loaded than fair.')"
   ]
  },
  {
   "cell_type": "markdown",
   "metadata": {},
   "source": [
    "The posterior odds of 7.6 aren't super strong according to the book, but on pg 160 it also suggests anything between 3 and 20 'might be on to something'."
   ]
  },
  {
   "cell_type": "code",
   "execution_count": 23,
   "metadata": {},
   "outputs": [
    {
     "data": {
      "text/plain": [
       "0.8831502687543819"
      ]
     },
     "execution_count": 23,
     "metadata": {},
     "output_type": "execute_result"
    }
   ],
   "source": [
    "1 - 1/(1+7.558)"
   ]
  },
  {
   "cell_type": "markdown",
   "metadata": {},
   "source": [
    "The strong prior changes our opinion. Instead of being 95% certain, we are about 74% certain which is the same chances of flipping not flipping tails twice in a row. Also, the relative advantage of both hypotheses under the best circumstances are still pretty close."
   ]
  },
  {
   "cell_type": "markdown",
   "metadata": {},
   "source": [
    "*`2. TBD`*"
   ]
  },
  {
   "cell_type": "code",
   "execution_count": null,
   "metadata": {},
   "outputs": [],
   "source": []
  }
 ],
 "metadata": {
  "kernelspec": {
   "display_name": "Python 3",
   "language": "python",
   "name": "python3"
  },
  "language_info": {
   "codemirror_mode": {
    "name": "ipython",
    "version": 3
   },
   "file_extension": ".py",
   "mimetype": "text/x-python",
   "name": "python",
   "nbconvert_exporter": "python",
   "pygments_lexer": "ipython3",
   "version": "3.6.9"
  }
 },
 "nbformat": 4,
 "nbformat_minor": 2
}
