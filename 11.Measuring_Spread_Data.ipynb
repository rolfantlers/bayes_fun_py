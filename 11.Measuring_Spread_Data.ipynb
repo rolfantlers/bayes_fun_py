{
 "cells": [
  {
   "cell_type": "code",
   "execution_count": 1,
   "metadata": {},
   "outputs": [],
   "source": [
    "# basic functions\n",
    "import math\n",
    "import numpy as np"
   ]
  },
  {
   "cell_type": "markdown",
   "metadata": {},
   "source": [
    "## `Exercises`"
   ]
  },
  {
   "cell_type": "markdown",
   "metadata": {},
   "source": [
    "*1. One of the benefits of variance is that squaring the difference makes the penalties exponential. Give some examples of when this would be a useful property.*"
   ]
  },
  {
   "cell_type": "markdown",
   "metadata": {},
   "source": [
    "Exponential penalties are useful for situations where a big difference is bad. Will Kurt cites distance as an example. A simple example is golf. If you're drives are apt to go anywhere, your score will likely be worse than a golfer who consistently hits the fairway."
   ]
  },
  {
   "cell_type": "markdown",
   "metadata": {},
   "source": [
    "*2. Calculate the mean, variance, and standard deviation for the following values: 1,2,3,4,5,6,7,8,9,10.*"
   ]
  },
  {
   "cell_type": "markdown",
   "metadata": {},
   "source": [
    "These questions can be solved using numpy. See np methods below"
   ]
  },
  {
   "cell_type": "code",
   "execution_count": 46,
   "metadata": {},
   "outputs": [],
   "source": [
    "numbers = np.arange(1,11) # array of 1,2,...,10\n",
    "average = np.mean(numbers)\n",
    "variance = np.var(numbers)\n",
    "stan_dev = np.std(numbers)"
   ]
  },
  {
   "cell_type": "code",
   "execution_count": 47,
   "metadata": {},
   "outputs": [
    {
     "name": "stdout",
     "output_type": "stream",
     "text": [
      "Average: 5.5\n",
      "Variance: 8.25\n",
      "Standard Deviation: 2.87\n"
     ]
    }
   ],
   "source": [
    "print(f\"Average: {average}\")\n",
    "print(f\"Variance: {variance}\")\n",
    "print(f\"Standard Deviation: {stan_dev:.2f}\")"
   ]
  },
  {
   "cell_type": "markdown",
   "metadata": {},
   "source": [
    "Another way to go about this is with the **`norm.fit`** method or rather **`from scipy.stats import norm`**\n",
    "\n",
    "This produces a tuple (mean,standard deviation)"
   ]
  },
  {
   "cell_type": "code",
   "execution_count": 56,
   "metadata": {},
   "outputs": [],
   "source": [
    "from scipy.stats import norm"
   ]
  },
  {
   "cell_type": "code",
   "execution_count": 57,
   "metadata": {},
   "outputs": [
    {
     "data": {
      "text/plain": [
       "(5.5, 2.8722813232690143)"
      ]
     },
     "execution_count": 57,
     "metadata": {},
     "output_type": "execute_result"
    }
   ],
   "source": [
    "alternative = norm.fit(numbers)\n",
    "alternative #mean, standard deviation"
   ]
  },
  {
   "cell_type": "code",
   "execution_count": 58,
   "metadata": {},
   "outputs": [
    {
     "name": "stdout",
     "output_type": "stream",
     "text": [
      "Average: 5.5\n",
      "Variance: 8.25\n",
      "Standard Deviation: 2.87\n"
     ]
    }
   ],
   "source": [
    "print(f\"Average: {alternative[0]}\")\n",
    "print(f\"Variance: {alternative[1]**2:.2f}\") # find variance by squaring standard deviation\n",
    "print(f\"Standard Deviation: {alternative[1]:.2f}\")"
   ]
  },
  {
   "cell_type": "code",
   "execution_count": 62,
   "metadata": {},
   "outputs": [
    {
     "data": {
      "text/plain": [
       "array([1., 1.])"
      ]
     },
     "execution_count": 62,
     "metadata": {},
     "output_type": "execute_result"
    }
   ],
   "source": [
    "norm.var(alternative)"
   ]
  },
  {
   "cell_type": "code",
   "execution_count": null,
   "metadata": {},
   "outputs": [],
   "source": [
    "norm.var"
   ]
  }
 ],
 "metadata": {
  "kernelspec": {
   "display_name": "Python 3",
   "language": "python",
   "name": "python3"
  },
  "language_info": {
   "codemirror_mode": {
    "name": "ipython",
    "version": 3
   },
   "file_extension": ".py",
   "mimetype": "text/x-python",
   "name": "python",
   "nbconvert_exporter": "python",
   "pygments_lexer": "ipython3",
   "version": "3.7.3"
  }
 },
 "nbformat": 4,
 "nbformat_minor": 2
}
