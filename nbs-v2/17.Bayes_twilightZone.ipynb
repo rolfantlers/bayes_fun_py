{
 "cells": [
  {
   "cell_type": "code",
   "execution_count": 1,
   "metadata": {},
   "outputs": [],
   "source": [
    "import numpy as np\n",
    "from scipy.stats import beta"
   ]
  },
  {
   "cell_type": "markdown",
   "metadata": {},
   "source": [
    "*`1. Every time you and your friend get together to watch movies, you flip a coin to determine who gets to choose the movie. Your friend always picks heads, and every Friday for 10 weeks, the coin lands on heads. You develop a hypothesis that the coin has two sides, rather than both a heads side and a tails side. Set up a Bayes factor for the hypothesis that the coin is a trick coin over the hypothesis that the coin is fair. What does this ratio alone suggest about whether or not your friend is cheathing you?`*"
   ]
  },
  {
   "cell_type": "markdown",
   "metadata": {},
   "source": [
    "**P(Data|Trick)** = Hypothesis1\n",
    "\n",
    "**P(Data|Fair)** = Hypothesis2"
   ]
  },
  {
   "cell_type": "code",
   "execution_count": 1,
   "metadata": {},
   "outputs": [],
   "source": [
    "# If the coin is two-headed, the chances of getting heads is 1 because there is no other outcome. \n",
    "pTrick = 1"
   ]
  },
  {
   "cell_type": "code",
   "execution_count": 4,
   "metadata": {},
   "outputs": [],
   "source": [
    "# If the coin is fair, the chances of ten heads in a row is 0.5**(10-0)\n",
    "pFair = 1*0.5**10"
   ]
  },
  {
   "cell_type": "code",
   "execution_count": 11,
   "metadata": {},
   "outputs": [
    {
     "name": "stdout",
     "output_type": "stream",
     "text": [
      "Bayes Factor: 1024.0\n"
     ]
    }
   ],
   "source": [
    "# To get to the Bayes factor, we compare the ratio of likelihood's pTrick/pFair\n",
    "\n",
    "bayesFactor = pTrick/pFair\n",
    "print(f\"Bayes Factor: {bayesFactor}\")"
   ]
  },
  {
   "cell_type": "code",
   "execution_count": 9,
   "metadata": {},
   "outputs": [],
   "source": [
    "# the ratio suggests with a lot of confidence that the coin is a trick coin"
   ]
  },
  {
   "cell_type": "markdown",
   "metadata": {},
   "source": [
    "*`2. Now imagine three cases: that your friend is a bit of a prankster, that your friend is honest most of the time but can occasionally be sneaky, and that your friend is very trustworthy. In each case, estimate some prior odds ratios for your hypothesis that the coin is fair. What does this ratio alone suggest about whether or not your friend is cheating you?`*"
   ]
  },
  {
   "cell_type": "markdown",
   "metadata": {},
   "source": [
    "**`from page 170:`**\n",
    "\n",
    "`...because each of them arrives at a conclusion of a different strength, and at very different times. This is fairly common in everyday reasoning: two people often respond differently to the exact same facts.`"
   ]
  },
  {
   "cell_type": "code",
   "execution_count": 21,
   "metadata": {},
   "outputs": [],
   "source": [
    "pPrankster = 2\n",
    "pMostlyHonest = 2/5 # \"honest most of the time\"\n",
    "pTrust = 1/5"
   ]
  },
  {
   "cell_type": "markdown",
   "metadata": {},
   "source": [
    "*`3. Suppose you trust this friend deeply. Make the prior odds of them cheating 1/10,000. How many times would the coin have to land on heads before you feel unsure about their innocence--say, a posterior odds of 1?`*"
   ]
  },
  {
   "cell_type": "markdown",
   "metadata": {},
   "source": [
    "Posterior Odds = O(H|D) = O(H)*bayesFactor"
   ]
  },
  {
   "cell_type": "markdown",
   "metadata": {},
   "source": [
    "1 = 1/10000 * likelihood\n",
    "\n",
    "likelihood = 0.5**n"
   ]
  },
  {
   "cell_type": "code",
   "execution_count": 23,
   "metadata": {},
   "outputs": [
    {
     "data": {
      "text/plain": [
       "10000.0"
      ]
     },
     "execution_count": 23,
     "metadata": {},
     "output_type": "execute_result"
    }
   ],
   "source": [
    "posterior = 1/(1/10000)\n",
    "posterior"
   ]
  },
  {
   "cell_type": "code",
   "execution_count": 51,
   "metadata": {},
   "outputs": [
    {
     "data": {
      "text/plain": [
       "[(0, 10000.0),\n",
       " (1, 5000.0),\n",
       " (2, 2500.0),\n",
       " (3, 1250.0),\n",
       " (4, 625.0),\n",
       " (5, 312.5),\n",
       " (6, 156.25),\n",
       " (7, 78.125),\n",
       " (8, 39.0625),\n",
       " (9, 19.53125),\n",
       " (10, 9.765625),\n",
       " (11, 4.8828125),\n",
       " (12, 2.44140625),\n",
       " (13, 1.220703125),\n",
       " (14, 0.6103515625),\n",
       " (15, 0.30517578125)]"
      ]
     },
     "execution_count": 51,
     "metadata": {},
     "output_type": "execute_result"
    }
   ],
   "source": [
    "[(n,posterior*(0.5**n)) for n in range(16)]"
   ]
  },
  {
   "cell_type": "code",
   "execution_count": null,
   "metadata": {},
   "outputs": [],
   "source": []
  }
 ],
 "metadata": {
  "kernelspec": {
   "display_name": "Python 3",
   "language": "python",
   "name": "python3"
  },
  "language_info": {
   "codemirror_mode": {
    "name": "ipython",
    "version": 3
   },
   "file_extension": ".py",
   "mimetype": "text/x-python",
   "name": "python",
   "nbconvert_exporter": "python",
   "pygments_lexer": "ipython3",
   "version": "3.7.3"
  }
 },
 "nbformat": 4,
 "nbformat_minor": 2
}
