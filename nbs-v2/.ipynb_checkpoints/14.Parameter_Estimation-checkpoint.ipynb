{
 "cells": [
  {
   "cell_type": "code",
   "execution_count": 1,
   "metadata": {},
   "outputs": [],
   "source": [
    "from scipy.stats import beta"
   ]
  },
  {
   "cell_type": "markdown",
   "metadata": {},
   "source": [
    "## `Exercises`"
   ]
  },
  {
   "cell_type": "markdown",
   "metadata": {},
   "source": [
    "*1. Suppose you're playing air hockey with some friends and flip a coin to see who starts with the puck. After playing 12 times, you realize the friend who brings the coin almost always seems to go first: 9 out of 12 times.*\n",
    "\n",
    "*Some of your other friends start to get suspicious. Define the prior probability distributions for the following beliefs:*\n",
    "\n",
    "* One person weakly believes that the friend is cheating and the true rate of coming up heads is closer to 70 percent.\n",
    "* One person who very strongly trusts that the coin is fair and provided a 50 percent chance of coming up heads.\n",
    "* One person who strongly believes the coin in biased to come up heads 70 percent of the time."
   ]
  },
  {
   "cell_type": "code",
   "execution_count": 26,
   "metadata": {},
   "outputs": [],
   "source": [
    "friend1 = (7,3)\n",
    "friend2 = (1000,1000)\n",
    "friend3 = (70,30)"
   ]
  },
  {
   "cell_type": "code",
   "execution_count": 27,
   "metadata": {},
   "outputs": [],
   "source": [
    "first_results = [9,3]\n",
    "n_tosses = sum(first_results)"
   ]
  },
  {
   "cell_type": "code",
   "execution_count": 28,
   "metadata": {},
   "outputs": [],
   "source": [
    "lower_bound = 0.025\n",
    "upper_bound = 1 - lower_bound"
   ]
  },
  {
   "cell_type": "markdown",
   "metadata": {},
   "source": [
    "**Beta(alpha_post,beta_post) = Beta(alpha_like + alpha_prior, beta_like + beta_prior)**"
   ]
  },
  {
   "cell_type": "code",
   "execution_count": 29,
   "metadata": {},
   "outputs": [
    {
     "data": {
      "text/plain": [
       "(6.340082068144544, 10.646287152936711)"
      ]
     },
     "execution_count": 29,
     "metadata": {},
     "output_type": "execute_result"
    }
   ],
   "source": [
    "first_w_prior = first_results[0] + friend1[0], first_results[1] + friend1[1]\n",
    "first = beta.ppf([lower_bound,upper_bound],a=first_w_prior[0],b=first_w_prior[1])\n",
    "first[0] * n_tosses, first[1]*n_tosses"
   ]
  },
  {
   "cell_type": "code",
   "execution_count": 30,
   "metadata": {},
   "outputs": [
    {
     "data": {
      "text/plain": [
       "(5.755798102547427, 6.279953492757633)"
      ]
     },
     "execution_count": 30,
     "metadata": {},
     "output_type": "execute_result"
    }
   ],
   "source": [
    "second_w_prior = first_results[0] + friend2[0], first_results[1] + friend2[1]\n",
    "second = beta.ppf([lower_bound,upper_bound],a=second_w_prior[0],b=second_w_prior[1])\n",
    "second[0] * n_tosses, second[1]*n_tosses"
   ]
  },
  {
   "cell_type": "code",
   "execution_count": 31,
   "metadata": {},
   "outputs": [
    {
     "data": {
      "text/plain": [
       "(7.416516545739329, 9.428702613507808)"
      ]
     },
     "execution_count": 31,
     "metadata": {},
     "output_type": "execute_result"
    }
   ],
   "source": [
    "third_w_prior = first_results[0] + friend3[0], first_results[1] + friend3[1]\n",
    "third = beta.ppf([lower_bound,upper_bound],a=third_w_prior[0],b=third_w_prior[1])\n",
    "third[0] * n_tosses, third[1]*n_tosses"
   ]
  },
  {
   "cell_type": "markdown",
   "metadata": {},
   "source": [
    "*2. To test the coin, you flip it 20 more times and get 9 heads and 11 tails. Using the priors you calculated in the previous question, what are the updated posterior beliefs in the true rate of flipping a heads for the 95 percent confidence interval.*"
   ]
  },
  {
   "cell_type": "code",
   "execution_count": 61,
   "metadata": {},
   "outputs": [],
   "source": [
    "def beta_interval(alpha_ev,beta_ev,alpha_prior=1,beta_prior=1,lower_bound=0.025,upper_bound=0.975):\n",
    "    alpha_comb = alpha_ev + alpha_prior\n",
    "    beta_comb = beta_ev + beta_prior\n",
    "    interval = beta.ppf([lower_bound,upper_bound],a=alpha_comb,b=beta_comb)\n",
    "    return interval[0],interval[1]"
   ]
  },
  {
   "cell_type": "code",
   "execution_count": 62,
   "metadata": {},
   "outputs": [],
   "source": [
    "new_heads = 9+9\n",
    "new_tails = 3+11"
   ]
  },
  {
   "cell_type": "code",
   "execution_count": 63,
   "metadata": {},
   "outputs": [
    {
     "data": {
      "text/plain": [
       "((0.4450478233706892, 0.7368320053113375),\n",
       " (0.47925114151525294, 0.5227155272566086),\n",
       " (0.5843152658326919, 0.7442339112415737))"
      ]
     },
     "execution_count": 63,
     "metadata": {},
     "output_type": "execute_result"
    }
   ],
   "source": [
    "friend_one = beta_interval(new_heads,new_tails,7,3)\n",
    "friend_two = beta_interval(new_heads,new_tails,1000,1000)\n",
    "friend_three = beta_interval(new_heads,new_tails,70,30)\n",
    "friend_one, friend_two, friend_three"
   ]
  },
  {
   "cell_type": "code",
   "execution_count": 60,
   "metadata": {},
   "outputs": [],
   "source": [
    "#friend one still believes coin biased, friend two changes mind, friend three believes coin biased"
   ]
  },
  {
   "cell_type": "code",
   "execution_count": null,
   "metadata": {},
   "outputs": [],
   "source": []
  }
 ],
 "metadata": {
  "kernelspec": {
   "display_name": "Python 3",
   "language": "python",
   "name": "python3"
  },
  "language_info": {
   "codemirror_mode": {
    "name": "ipython",
    "version": 3
   },
   "file_extension": ".py",
   "mimetype": "text/x-python",
   "name": "python",
   "nbconvert_exporter": "python",
   "pygments_lexer": "ipython3",
   "version": "3.7.3"
  }
 },
 "nbformat": 4,
 "nbformat_minor": 2
}
